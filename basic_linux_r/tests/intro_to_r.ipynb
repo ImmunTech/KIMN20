{
  "cells": [
    {
      "cell_type": "markdown",
      "metadata": {},
      "source": [
        "# Omics - Analysis of large-scale biomolecular datasets\n",
        "\n",
        "KIMN20 - LTH\n",
        "\n",
        "Daniel Nilsson  \n",
        "Massimiliano Volpe  \n",
        "2025-10-29\n",
        "\n",
        "## Introduction to R\n",
        "\n",
        "### Course date: 04 November 2025\n",
        "\n",
        "### Last modified: 2025-10-29\n",
        "\n",
        "## Welcome to R Programming! 🐧\n",
        "\n",
        "This presentation will teach you the fundamentals of R programming for\n",
        "data analysis.\n",
        "\n",
        "### What we’ll cover:\n",
        "\n",
        "-   R language basics and getting help\n",
        "-   Working with packages\n",
        "-   Variables and data types\n",
        "-   Data structures (vectors, matrices, lists, data frames)\n",
        "-   Reading data from files\n",
        "-   Writing functions\n",
        "\n",
        "------------------------------------------------------------------------\n",
        "\n",
        "## Getting Started with R\n",
        "\n",
        "### Opening R/RStudio\n",
        "\n",
        "-   **RStudio**: Download from\n",
        "    https://posit.co/download/rstudio-desktop/\n",
        "-   **Web-based**: Use RStudio Cloud or Google Colab with R kernel\n",
        "-   **Command line**: Type `R` in terminal\n",
        "\n",
        "### Your First R Commands"
      ],
      "id": "75ba6c99-47ea-4914-ab79-9bb432255ecf"
    },
    {
      "cell_type": "code",
      "execution_count": null,
      "metadata": {},
      "outputs": [
        {
          "output_type": "stream",
          "name": "stdout",
          "text": [
            "[1] \"Hello, R!\""
          ]
        }
      ],
      "source": [
        "# This is a comment - it won't execute\n",
        "print(\"Hello, R!\")"
      ],
      "id": "51f5bec5-20d8-4ca5-8815-9d117494c7d9"
    },
    {
      "cell_type": "markdown",
      "metadata": {},
      "source": [
        "Try running this command in your R console!\n",
        "\n",
        "------------------------------------------------------------------------\n",
        "\n",
        "### R as a Calculator"
      ],
      "id": "717bdd49-981c-4d17-995c-63e0f2505bba"
    },
    {
      "cell_type": "code",
      "execution_count": null,
      "metadata": {},
      "outputs": [
        {
          "output_type": "stream",
          "name": "stdout",
          "text": [
            "[1] 5"
          ]
        },
        {
          "output_type": "stream",
          "name": "stdout",
          "text": [
            "[1] 6"
          ]
        },
        {
          "output_type": "stream",
          "name": "stdout",
          "text": [
            "[1] 30"
          ]
        },
        {
          "output_type": "stream",
          "name": "stdout",
          "text": [
            "[1] 5"
          ]
        },
        {
          "output_type": "stream",
          "name": "stdout",
          "text": [
            "[1] 8"
          ]
        }
      ],
      "source": [
        "# Basic arithmetic\n",
        "2 + 3"
      ],
      "id": "710a918e-5076-49c8-a1ea-378517916152"
    },
    {
      "cell_type": "markdown",
      "metadata": {},
      "source": [
        "------------------------------------------------------------------------\n",
        "\n",
        "## Getting Help\n",
        "\n",
        "### Built-in Help Functions"
      ],
      "id": "e099c104-1240-4c5d-9661-c737e825da69"
    },
    {
      "cell_type": "code",
      "execution_count": null,
      "metadata": {},
      "outputs": [],
      "source": [
        "# Get help for a function\n",
        "?print\n",
        "help(print)\n",
        "\n",
        "# Search for functions\n",
        "??plot\n",
        "help.search(\"plot\")"
      ],
      "id": "ee30f3e4-7b45-456b-b23c-9d5dbb92f9cd"
    },
    {
      "cell_type": "markdown",
      "metadata": {},
      "source": [
        "### Help for Packages"
      ],
      "id": "2aa67214-8f6c-4be0-a5a1-2614313b1b9c"
    },
    {
      "cell_type": "code",
      "execution_count": null,
      "metadata": {},
      "outputs": [],
      "source": [
        "# Get help for installed packages\n",
        "help(package = \"base\")\n",
        "\n",
        "# Vignettes (detailed tutorials)\n",
        "vignette()\n",
        "# vignette(\"ggplot2\")  # Commented out to prevent browser opening"
      ],
      "id": "1b87e968-4099-49c8-bcff-ae05663cba8d"
    },
    {
      "cell_type": "markdown",
      "metadata": {},
      "source": [
        "------------------------------------------------------------------------\n",
        "\n",
        "## Working with Packages\n",
        "\n",
        "### Installing Packages"
      ],
      "id": "42366e52-7a15-4d4a-8a0c-e3adef5d0b17"
    },
    {
      "cell_type": "code",
      "execution_count": null,
      "metadata": {},
      "outputs": [],
      "source": [
        "# Commented out to prevent browser opening\n",
        "# Install from CRAN (main repository)\n",
        "# install.packages(\"tidyverse\")\n",
        "\n",
        "# Install multiple packages\n",
        "# install.packages(c(\"dplyr\", \"ggplot2\", \"readr\"))"
      ],
      "id": "80a1d99f-76fb-4f01-adb5-ce5fcb8b5d46"
    },
    {
      "cell_type": "markdown",
      "metadata": {},
      "source": [
        "### Loading Packages"
      ],
      "id": "36d43a7b-cffe-4669-95fc-b467833da686"
    },
    {
      "cell_type": "code",
      "execution_count": null,
      "metadata": {},
      "outputs": [
        {
          "output_type": "stream",
          "name": "stderr",
          "text": [
            "── Attaching core tidyverse packages ──────────────────────── tidyverse 2.0.0 ──\n",
            "✔ dplyr     1.1.4     ✔ readr     2.1.5\n",
            "✔ forcats   1.0.0     ✔ stringr   1.5.1\n",
            "✔ ggplot2   3.5.1     ✔ tibble    3.2.1\n",
            "✔ lubridate 1.9.4     ✔ tidyr     1.3.1\n",
            "✔ purrr     1.0.2     \n",
            "── Conflicts ────────────────────────────────────────── tidyverse_conflicts() ──\n",
            "✖ dplyr::filter() masks stats::filter()\n",
            "✖ dplyr::lag()    masks stats::lag()\n",
            "ℹ Use the conflicted package (<http://conflicted.r-lib.org/>) to force all conflicts to become errors"
          ]
        }
      ],
      "source": [
        "# Load a package\n",
        "library(tidyverse)"
      ],
      "id": "bd3dcee6-c944-4544-a6c0-0061defac29f"
    },
    {
      "cell_type": "markdown",
      "metadata": {},
      "source": [
        "------------------------------------------------------------------------\n",
        "\n",
        "### Package Management"
      ],
      "id": "1fdb5f8d-9e38-472c-bee6-cecf5bb686af"
    },
    {
      "cell_type": "code",
      "execution_count": null,
      "metadata": {},
      "outputs": [
        {
          "output_type": "stream",
          "name": "stdout",
          "text": [
            "R version 4.4.1 (2024-06-14)\n",
            "Platform: aarch64-apple-darwin20\n",
            "Running under: macOS 15.7.1\n",
            "\n",
            "Matrix products: default\n",
            "BLAS:   /Library/Frameworks/R.framework/Versions/4.4-arm64/Resources/lib/libRblas.0.dylib \n",
            "LAPACK: /Library/Frameworks/R.framework/Versions/4.4-arm64/Resources/lib/libRlapack.dylib;  LAPACK version 3.12.0\n",
            "\n",
            "locale:\n",
            "[1] en_US.UTF-8/en_US.UTF-8/en_US.UTF-8/C/en_US.UTF-8/en_US.UTF-8\n",
            "\n",
            "time zone: Europe/Stockholm\n",
            "tzcode source: internal\n",
            "\n",
            "attached base packages:\n",
            "[1] stats     graphics  grDevices utils     datasets  methods   base     \n",
            "\n",
            "other attached packages:\n",
            " [1] lubridate_1.9.4 forcats_1.0.0   stringr_1.5.1   dplyr_1.1.4    \n",
            " [5] purrr_1.0.2     readr_2.1.5     tidyr_1.3.1     tibble_3.2.1   \n",
            " [9] ggplot2_3.5.1   tidyverse_2.0.0\n",
            "\n",
            "loaded via a namespace (and not attached):\n",
            " [1] gtable_0.3.6      jsonlite_1.8.9    compiler_4.4.1    tidyselect_1.2.1 \n",
            " [5] scales_1.3.0      yaml_2.3.10       fastmap_1.2.0     R6_2.5.1         \n",
            " [9] generics_0.1.3    knitr_1.50        munsell_0.5.1     pillar_1.9.0     \n",
            "[13] tzdb_0.4.0        rlang_1.1.4       utf8_1.2.4        stringi_1.8.4    \n",
            "[17] xfun_0.53         timechange_0.3.0  cli_3.6.3         withr_3.0.2      \n",
            "[21] magrittr_2.0.3    digest_0.6.37     grid_4.4.1        hms_1.1.3        \n",
            "[25] lifecycle_1.0.4   vctrs_0.6.5       evaluate_1.0.1    glue_1.8.0       \n",
            "[29] fansi_1.0.6       colorspace_2.1-1  rmarkdown_2.30    tools_4.4.1      \n",
            "[33] pkgconfig_2.0.3   htmltools_0.5.8.1"
          ]
        }
      ],
      "source": [
        "# See loaded packages\n",
        "sessionInfo()"
      ],
      "id": "c83217a5-3ff3-4be7-a40d-c914f2709c28"
    },
    {
      "cell_type": "markdown",
      "metadata": {},
      "source": [
        "------------------------------------------------------------------------\n",
        "\n",
        "## Variables and Assignment\n",
        "\n",
        "### Creating Variables"
      ],
      "id": "0c7c4187-898d-4e90-bce9-9b6db278c9dd"
    },
    {
      "cell_type": "code",
      "execution_count": null,
      "metadata": {},
      "outputs": [
        {
          "output_type": "stream",
          "name": "stdout",
          "text": [
            "[1] 5"
          ]
        },
        {
          "output_type": "stream",
          "name": "stdout",
          "text": [
            "[1] 10"
          ]
        }
      ],
      "source": [
        "# Assignment operators\n",
        "x <- 5\n",
        "y = 10\n",
        "20 -> z\n",
        "\n",
        "# Print variables\n",
        "x"
      ],
      "id": "23dded10-3008-4eed-8e44-d22327d08f61"
    },
    {
      "cell_type": "markdown",
      "metadata": {},
      "source": [
        "------------------------------------------------------------------------\n",
        "\n",
        "### Variable Names"
      ],
      "id": "a75f9943-ae18-4aca-8666-6eaa1f1b8ccd"
    },
    {
      "cell_type": "code",
      "execution_count": null,
      "metadata": {},
      "outputs": [],
      "source": [
        "# Valid names\n",
        "my_variable <- 1\n",
        "myVariable <- 2\n",
        ".variable <- 3\n",
        "variable. <- 4\n",
        "\n",
        "# Invalid names (would cause errors)\n",
        "# 1variable <- 5\n",
        "# my-variable <- 6\n",
        "# my variable <- 7"
      ],
      "id": "744e5787-6151-482a-a0d2-01404a3a8854"
    },
    {
      "cell_type": "markdown",
      "metadata": {},
      "source": [
        "------------------------------------------------------------------------\n",
        "\n",
        "## Data Types and Classes\n",
        "\n",
        "### Basic Data Types"
      ],
      "id": "56b9114d-46f4-4bbe-8749-3601198feb63"
    },
    {
      "cell_type": "code",
      "execution_count": null,
      "metadata": {},
      "outputs": [
        {
          "output_type": "stream",
          "name": "stdout",
          "text": [
            "[1] \"numeric\""
          ]
        },
        {
          "output_type": "stream",
          "name": "stdout",
          "text": [
            "[1] \"integer\""
          ]
        },
        {
          "output_type": "stream",
          "name": "stdout",
          "text": [
            "[1] \"character\""
          ]
        },
        {
          "output_type": "stream",
          "name": "stdout",
          "text": [
            "[1] \"logical\""
          ]
        }
      ],
      "source": [
        "# Numeric (double)\n",
        "num <- 3.14\n",
        "class(num)"
      ],
      "id": "c93ab27b-8c84-47be-b52c-64f9d033191f"
    },
    {
      "cell_type": "markdown",
      "metadata": {},
      "source": [
        "------------------------------------------------------------------------\n",
        "\n",
        "### Type Checking"
      ],
      "id": "22d56a79-4872-4a8f-ba2d-507712d9a9dc"
    },
    {
      "cell_type": "code",
      "execution_count": null,
      "metadata": {},
      "outputs": [
        {
          "output_type": "stream",
          "name": "stdout",
          "text": [
            "[1] TRUE"
          ]
        },
        {
          "output_type": "stream",
          "name": "stdout",
          "text": [
            "[1] TRUE"
          ]
        },
        {
          "output_type": "stream",
          "name": "stdout",
          "text": [
            "[1] TRUE"
          ]
        },
        {
          "output_type": "stream",
          "name": "stdout",
          "text": [
            "[1] TRUE"
          ]
        },
        {
          "output_type": "stream",
          "name": "stdout",
          "text": [
            "[1] TRUE"
          ]
        },
        {
          "output_type": "stream",
          "name": "stdout",
          "text": [
            "[1] FALSE"
          ]
        }
      ],
      "source": [
        "# Check data types\n",
        "is.numeric(num)"
      ],
      "id": "d65ea518-cd74-4bda-9582-5cc4458315d7"
    },
    {
      "cell_type": "markdown",
      "metadata": {},
      "source": [
        "------------------------------------------------------------------------\n",
        "\n",
        "## Type Casting and Conversion\n",
        "\n",
        "### Converting Between Types"
      ],
      "id": "3a88db46-3dd0-4b5c-b6a0-91c2b0cdb4bb"
    },
    {
      "cell_type": "code",
      "execution_count": null,
      "metadata": {},
      "outputs": [
        {
          "output_type": "stream",
          "name": "stdout",
          "text": [
            "[1] \"3.14\""
          ]
        },
        {
          "output_type": "stream",
          "name": "stdout",
          "text": [
            "[1] 42.5"
          ]
        },
        {
          "output_type": "stream",
          "name": "stdout",
          "text": [
            "[1] 3"
          ]
        },
        {
          "output_type": "stream",
          "name": "stdout",
          "text": [
            "[1] 1"
          ]
        },
        {
          "output_type": "stream",
          "name": "stdout",
          "text": [
            "[1] 0"
          ]
        }
      ],
      "source": [
        "# Numeric to character\n",
        "as.character(3.14)"
      ],
      "id": "313a44bd-722b-4047-873b-63c357a002b1"
    },
    {
      "cell_type": "markdown",
      "metadata": {},
      "source": [
        "------------------------------------------------------------------------\n",
        "\n",
        "### Common Conversions"
      ],
      "id": "75c6d4e8-c8d3-41ee-b1bc-22a47fa3e925"
    },
    {
      "cell_type": "code",
      "execution_count": null,
      "metadata": {},
      "outputs": [
        {
          "output_type": "stream",
          "name": "stdout",
          "text": [
            "[1] TRUE"
          ]
        },
        {
          "output_type": "stream",
          "name": "stdout",
          "text": [
            "[1] FALSE"
          ]
        },
        {
          "output_type": "stream",
          "name": "stdout",
          "text": [
            "[1] \"A\" \"B\" \"A\""
          ]
        }
      ],
      "source": [
        "# String to logical\n",
        "as.logical(\"TRUE\")"
      ],
      "id": "ab80b116-d88a-4695-9974-a53e15e34751"
    },
    {
      "cell_type": "markdown",
      "metadata": {},
      "source": [
        "------------------------------------------------------------------------\n",
        "\n",
        "## Basic String Operations\n",
        "\n",
        "### String Basics"
      ],
      "id": "5826f436-8f08-4f67-b777-c072eb8f43e9"
    },
    {
      "cell_type": "code",
      "execution_count": null,
      "metadata": {},
      "outputs": [
        {
          "output_type": "stream",
          "name": "stdout",
          "text": [
            "[1] 5"
          ]
        },
        {
          "output_type": "stream",
          "name": "stdout",
          "text": [
            "[1] \"Hello World\""
          ]
        },
        {
          "output_type": "stream",
          "name": "stdout",
          "text": [
            "[1] \"Hello World\""
          ]
        }
      ],
      "source": [
        "# Create strings\n",
        "name <- \"Alice\"\n",
        "greeting <- 'Hello'\n",
        "\n",
        "# String length\n",
        "nchar(name)"
      ],
      "id": "8880c5de-10d7-41ea-bbb0-f1ee8c8e145c"
    },
    {
      "cell_type": "markdown",
      "metadata": {},
      "source": [
        "------------------------------------------------------------------------\n",
        "\n",
        "### String Manipulation"
      ],
      "id": "2845c5ab-cd53-4ef7-953f-836c7705a98b"
    },
    {
      "cell_type": "code",
      "execution_count": null,
      "metadata": {},
      "outputs": [
        {
          "output_type": "stream",
          "name": "stdout",
          "text": [
            "[1] \"Hello\""
          ]
        },
        {
          "output_type": "stream",
          "name": "stdout",
          "text": [
            "[1] \"HELLO\""
          ]
        },
        {
          "output_type": "stream",
          "name": "stdout",
          "text": [
            "[1] \"world\""
          ]
        },
        {
          "output_type": "stream",
          "name": "stdout",
          "text": [
            "[[1]]\n",
            "[1] \"Hello\" \"World\""
          ]
        }
      ],
      "source": [
        "# Substring\n",
        "substr(\"Hello World\", 1, 5)"
      ],
      "id": "1009e55e-ac81-4d1d-b7c4-ee6e2bde8bb5"
    },
    {
      "cell_type": "markdown",
      "metadata": {},
      "source": [
        "------------------------------------------------------------------------\n",
        "\n",
        "## Atomic Vectors\n",
        "\n",
        "### Creating Vectors"
      ],
      "id": "4519ae74-0ce4-489b-8632-81ca43505971"
    },
    {
      "cell_type": "code",
      "execution_count": null,
      "metadata": {},
      "outputs": [
        {
          "output_type": "stream",
          "name": "stdout",
          "text": [
            "[1] 1 2 3 4 5"
          ]
        },
        {
          "output_type": "stream",
          "name": "stdout",
          "text": [
            "[1] \"apple\"  \"banana\" \"orange\""
          ]
        },
        {
          "output_type": "stream",
          "name": "stdout",
          "text": [
            "[1]  TRUE FALSE  TRUE"
          ]
        }
      ],
      "source": [
        "# Numeric vector\n",
        "numbers <- c(1, 2, 3, 4, 5)\n",
        "numbers"
      ],
      "id": "e08d2a1a-3dec-48ba-a800-119701eb3664"
    },
    {
      "cell_type": "markdown",
      "metadata": {},
      "source": [
        "------------------------------------------------------------------------\n",
        "\n",
        "### Vector Operations"
      ],
      "id": "40151f3f-0b5c-4a2e-97c6-28ef93d5be02"
    },
    {
      "cell_type": "code",
      "execution_count": null,
      "metadata": {},
      "outputs": [
        {
          "output_type": "stream",
          "name": "stdout",
          "text": [
            "[1] 5 7 9"
          ]
        },
        {
          "output_type": "stream",
          "name": "stdout",
          "text": [
            "[1]  4 10 18"
          ]
        },
        {
          "output_type": "stream",
          "name": "stdout",
          "text": [
            "[1] 5"
          ]
        },
        {
          "output_type": "stream",
          "name": "stdout",
          "text": [
            "[1] 15"
          ]
        },
        {
          "output_type": "stream",
          "name": "stdout",
          "text": [
            "[1] 3"
          ]
        }
      ],
      "source": [
        "# Vector arithmetic\n",
        "x <- c(1, 2, 3)\n",
        "y <- c(4, 5, 6)\n",
        "x + y"
      ],
      "id": "62a5da26-77f4-45cd-81a0-15dfd1e488dd"
    },
    {
      "cell_type": "markdown",
      "metadata": {},
      "source": [
        "------------------------------------------------------------------------\n",
        "\n",
        "### Vector Indexing"
      ],
      "id": "bdeaee97-9ca7-4e43-919f-1001b7f2b7a5"
    },
    {
      "cell_type": "code",
      "execution_count": null,
      "metadata": {},
      "outputs": [
        {
          "output_type": "stream",
          "name": "stdout",
          "text": [
            "[1] \"apple\""
          ]
        },
        {
          "output_type": "stream",
          "name": "stdout",
          "text": [
            "[1] \"banana\" \"orange\""
          ]
        },
        {
          "output_type": "stream",
          "name": "stdout",
          "text": [
            "[1] \"apple\"  \"orange\""
          ]
        },
        {
          "output_type": "stream",
          "name": "stdout",
          "text": [
            "[1] \"banana\" \"orange\""
          ]
        },
        {
          "output_type": "stream",
          "name": "stdout",
          "text": [
            "[1] \"banana\""
          ]
        }
      ],
      "source": [
        "# Access elements\n",
        "fruits[1]       # First element"
      ],
      "id": "49529358-bb55-4c9b-907b-b53d4b07b059"
    },
    {
      "cell_type": "markdown",
      "metadata": {},
      "source": [
        "------------------------------------------------------------------------\n",
        "\n",
        "### Named Vectors"
      ],
      "id": "f74dbc7c-6031-4dde-801a-f5b48508f78d"
    },
    {
      "cell_type": "code",
      "execution_count": null,
      "metadata": {},
      "outputs": [
        {
          "output_type": "stream",
          "name": "stdout",
          "text": [
            "Alice   Bob Carol \n",
            "   25    30    35 "
          ]
        },
        {
          "output_type": "stream",
          "name": "stdout",
          "text": [
            "Alice \n",
            "   25 "
          ]
        },
        {
          "output_type": "stream",
          "name": "stdout",
          "text": [
            "Alice Carol \n",
            "   25    35 "
          ]
        }
      ],
      "source": [
        "# Create named vector\n",
        "ages <- c(Alice = 25, Bob = 30, Carol = 35)\n",
        "ages"
      ],
      "id": "c5d601e4-f622-4340-ac3e-ea1e10e6a109"
    },
    {
      "cell_type": "markdown",
      "metadata": {},
      "source": [
        "------------------------------------------------------------------------\n",
        "\n",
        "## Matrices\n",
        "\n",
        "### Creating Matrices"
      ],
      "id": "727eb629-1bb1-48d1-a582-b6b8db6f4280"
    },
    {
      "cell_type": "code",
      "execution_count": null,
      "metadata": {},
      "outputs": [
        {
          "output_type": "stream",
          "name": "stdout",
          "text": [
            "     [,1] [,2] [,3]\n",
            "[1,]    1    4    7\n",
            "[2,]    2    5    8\n",
            "[3,]    3    6    9"
          ]
        },
        {
          "output_type": "stream",
          "name": "stdout",
          "text": [
            "     [,1] [,2] [,3]\n",
            "[1,]    1    2    3\n",
            "[2,]    4    5    6"
          ]
        },
        {
          "output_type": "stream",
          "name": "stdout",
          "text": [
            "     [,1] [,2] [,3]\n",
            "[1,]    1    3    5\n",
            "[2,]    2    4    6"
          ]
        }
      ],
      "source": [
        "# Create matrix from vector\n",
        "matrix(1:9, nrow = 3, ncol = 3)"
      ],
      "id": "3ef51d44-daaa-40c3-8f0c-b867b5abef20"
    },
    {
      "cell_type": "markdown",
      "metadata": {},
      "source": [
        "------------------------------------------------------------------------\n",
        "\n",
        "### Matrix Operations"
      ],
      "id": "6e4ee8a0-5469-4a8b-ae91-b1b7e767ff2e"
    },
    {
      "cell_type": "code",
      "execution_count": null,
      "metadata": {},
      "outputs": [
        {
          "output_type": "stream",
          "name": "stdout",
          "text": [
            "     [,1] [,2]\n",
            "[1,]    1    3\n",
            "[2,]    2    4"
          ]
        },
        {
          "output_type": "stream",
          "name": "stdout",
          "text": [
            "[1] 2 2"
          ]
        },
        {
          "output_type": "stream",
          "name": "stdout",
          "text": [
            "[1] 2"
          ]
        },
        {
          "output_type": "stream",
          "name": "stdout",
          "text": [
            "[1] 2"
          ]
        }
      ],
      "source": [
        "# Create sample matrix\n",
        "m <- matrix(1:4, nrow = 2)\n",
        "m"
      ],
      "id": "47f56586-c21c-4cb6-a381-acff1108483f"
    },
    {
      "cell_type": "markdown",
      "metadata": {},
      "source": [
        "------------------------------------------------------------------------\n",
        "\n",
        "### Matrix Indexing"
      ],
      "id": "0725a4d9-0664-4c8e-b384-32c12c43e561"
    },
    {
      "cell_type": "code",
      "execution_count": null,
      "metadata": {},
      "outputs": [
        {
          "output_type": "stream",
          "name": "stdout",
          "text": [
            "[1] 3"
          ]
        },
        {
          "output_type": "stream",
          "name": "stdout",
          "text": [
            "[1] 1 3"
          ]
        },
        {
          "output_type": "stream",
          "name": "stdout",
          "text": [
            "[1] 3 4"
          ]
        },
        {
          "output_type": "stream",
          "name": "stdout",
          "text": [
            "[1] 1 2"
          ]
        }
      ],
      "source": [
        "# Access elements\n",
        "m[1, 2]    # Row 1, Column 2"
      ],
      "id": "f2179d08-afc5-4d32-a6b0-32be9e86c68f"
    },
    {
      "cell_type": "markdown",
      "metadata": {},
      "source": [
        "------------------------------------------------------------------------\n",
        "\n",
        "### Matrix Arithmetic"
      ],
      "id": "09944b07-7280-4170-bc45-0ac197a37d99"
    },
    {
      "cell_type": "code",
      "execution_count": null,
      "metadata": {},
      "outputs": [
        {
          "output_type": "stream",
          "name": "stdout",
          "text": [
            "     [,1] [,2]\n",
            "[1,]    6   10\n",
            "[2,]    8   12"
          ]
        },
        {
          "output_type": "stream",
          "name": "stdout",
          "text": [
            "     [,1] [,2]\n",
            "[1,]    5   21\n",
            "[2,]   12   32"
          ]
        },
        {
          "output_type": "stream",
          "name": "stdout",
          "text": [
            "     [,1] [,2]\n",
            "[1,]   23   31\n",
            "[2,]   34   46"
          ]
        }
      ],
      "source": [
        "# Matrix operations\n",
        "m1 <- matrix(1:4, nrow = 2)\n",
        "m2 <- matrix(5:8, nrow = 2)\n",
        "\n",
        "m1 + m2"
      ],
      "id": "d033ee2c-ac74-41d1-86f3-01f418a96ffd"
    },
    {
      "cell_type": "markdown",
      "metadata": {},
      "source": [
        "------------------------------------------------------------------------\n",
        "\n",
        "## Lists\n",
        "\n",
        "### Creating Lists"
      ],
      "id": "51131bd6-07d5-4616-bec1-5aa661e14f4a"
    },
    {
      "cell_type": "code",
      "execution_count": null,
      "metadata": {},
      "outputs": [
        {
          "output_type": "stream",
          "name": "stdout",
          "text": [
            "[[1]]\n",
            "[1] 1\n",
            "\n",
            "[[2]]\n",
            "[1] \"hello\"\n",
            "\n",
            "[[3]]\n",
            "[1] TRUE"
          ]
        }
      ],
      "source": [
        "# Simple list\n",
        "my_list <- list(1, \"hello\", TRUE)\n",
        "my_list"
      ],
      "id": "b1cea5a9-efcd-4ce0-ba12-ceedba1f7706"
    },
    {
      "cell_type": "markdown",
      "metadata": {},
      "source": [
        "------------------------------------------------------------------------\n",
        "\n",
        "### Creating Lists"
      ],
      "id": "50a8ee08-4419-4548-94c5-f14a64ed328c"
    },
    {
      "cell_type": "code",
      "execution_count": null,
      "metadata": {},
      "outputs": [
        {
          "output_type": "stream",
          "name": "stdout",
          "text": [
            "$name\n",
            "[1] \"Alice\"\n",
            "\n",
            "$age\n",
            "[1] 25\n",
            "\n",
            "$scores\n",
            "[1] 85 90 88"
          ]
        }
      ],
      "source": [
        "# Named list\n",
        "person <- list(\n",
        "  name = \"Alice\",\n",
        "  age = 25,\n",
        "  scores = c(85, 90, 88)\n",
        ")\n",
        "person"
      ],
      "id": "b2b76ba0-da3d-4d0d-b08b-ae857e50d590"
    },
    {
      "cell_type": "markdown",
      "metadata": {},
      "source": [
        "------------------------------------------------------------------------\n",
        "\n",
        "### Accessing List Elements"
      ],
      "id": "5ebec01c-6040-4c43-ba14-b8da04ceaa5a"
    },
    {
      "cell_type": "code",
      "execution_count": null,
      "metadata": {},
      "outputs": [
        {
          "output_type": "stream",
          "name": "stdout",
          "text": [
            "[1] \"Alice\""
          ]
        },
        {
          "output_type": "stream",
          "name": "stdout",
          "text": [
            "[1] 85 90 88"
          ]
        },
        {
          "output_type": "stream",
          "name": "stdout",
          "text": [
            "[1] \"Alice\""
          ]
        },
        {
          "output_type": "stream",
          "name": "stdout",
          "text": [
            "[1] 25"
          ]
        },
        {
          "output_type": "stream",
          "name": "stdout",
          "text": [
            "[1] 85 90 88"
          ]
        }
      ],
      "source": [
        "# By index\n",
        "person[[1]]  # First element"
      ],
      "id": "206fb0d1-4de9-4e29-bc0e-35fb9303fe0b"
    },
    {
      "cell_type": "markdown",
      "metadata": {},
      "source": [
        "------------------------------------------------------------------------\n",
        "\n",
        "### List Operations"
      ],
      "id": "699232f8-41cf-4dd2-a106-67ace425a4bc"
    },
    {
      "cell_type": "code",
      "execution_count": null,
      "metadata": {},
      "outputs": [
        {
          "output_type": "stream",
          "name": "stdout",
          "text": [
            "[1] 3"
          ]
        },
        {
          "output_type": "stream",
          "name": "stdout",
          "text": [
            "[1] \"name\"   \"age\"    \"scores\""
          ]
        },
        {
          "output_type": "stream",
          "name": "stdout",
          "text": [
            "$name\n",
            "[1] \"Alice\"\n",
            "\n",
            "$age\n",
            "[1] 25\n",
            "\n",
            "$scores\n",
            "[1] 85 90 88\n",
            "\n",
            "$city\n",
            "[1] \"Stockholm\""
          ]
        }
      ],
      "source": [
        "# List length\n",
        "length(person)"
      ],
      "id": "baf541e8-cd3e-4929-8b47-d22c26569107"
    },
    {
      "cell_type": "markdown",
      "metadata": {},
      "source": [
        "------------------------------------------------------------------------\n",
        "\n",
        "### List Operations"
      ],
      "id": "887c5a66-dbbe-42c3-959c-d9b1fe7de36e"
    },
    {
      "cell_type": "code",
      "execution_count": null,
      "metadata": {},
      "outputs": [
        {
          "output_type": "stream",
          "name": "stdout",
          "text": [
            "$name\n",
            "[1] \"Alice\"\n",
            "\n",
            "$age\n",
            "[1] 25\n",
            "\n",
            "$scores\n",
            "[1] 85 90 88"
          ]
        }
      ],
      "source": [
        "# Remove elements\n",
        "person$city <- NULL\n",
        "person"
      ],
      "id": "9bf54116-7a2f-41c5-a558-4f68f4ca656c"
    },
    {
      "cell_type": "markdown",
      "metadata": {},
      "source": [
        "------------------------------------------------------------------------\n",
        "\n",
        "## Data Frames\n",
        "\n",
        "### Creating Data Frames"
      ],
      "id": "4441d9fc-e5e8-46cb-a8d5-22584db32e9f"
    },
    {
      "cell_type": "code",
      "execution_count": null,
      "metadata": {},
      "outputs": [
        {
          "output_type": "stream",
          "name": "stdout",
          "text": [
            "   name age grade\n",
            "1 Alice  20     A\n",
            "2   Bob  21     B\n",
            "3 Carol  19     A"
          ]
        }
      ],
      "source": [
        "# Create data frame\n",
        "students <- data.frame(\n",
        "  name = c(\"Alice\", \"Bob\", \"Carol\"),\n",
        "  age = c(20, 21, 19),\n",
        "  grade = c(\"A\", \"B\", \"A\")\n",
        ")\n",
        "students"
      ],
      "id": "43d7ecb3-42e5-469e-8fbd-18677c3f93c2"
    },
    {
      "cell_type": "markdown",
      "metadata": {},
      "source": [
        "------------------------------------------------------------------------\n",
        "\n",
        "### Data Frame Properties"
      ],
      "id": "6d150bc9-017f-4861-af10-41aaa9e50527"
    },
    {
      "cell_type": "code",
      "execution_count": null,
      "metadata": {},
      "outputs": [
        {
          "output_type": "stream",
          "name": "stdout",
          "text": [
            "'data.frame':   3 obs. of  3 variables:\n",
            " $ name : chr  \"Alice\" \"Bob\" \"Carol\"\n",
            " $ age  : num  20 21 19\n",
            " $ grade: chr  \"A\" \"B\" \"A\""
          ]
        },
        {
          "output_type": "stream",
          "name": "stdout",
          "text": [
            "[1] 3 3"
          ]
        },
        {
          "output_type": "stream",
          "name": "stdout",
          "text": [
            "[1] 3"
          ]
        },
        {
          "output_type": "stream",
          "name": "stdout",
          "text": [
            "[1] 3"
          ]
        },
        {
          "output_type": "stream",
          "name": "stdout",
          "text": [
            "[1] \"name\"  \"age\"   \"grade\""
          ]
        }
      ],
      "source": [
        "# Structure\n",
        "str(students)"
      ],
      "id": "00560899-40fa-4065-8980-c1e6b4ed9162"
    },
    {
      "cell_type": "markdown",
      "metadata": {},
      "source": [
        "------------------------------------------------------------------------\n",
        "\n",
        "### Data Frame Indexing"
      ],
      "id": "15bc56bd-33e6-41f2-be33-39a536b3c257"
    },
    {
      "cell_type": "code",
      "execution_count": null,
      "metadata": {},
      "outputs": [
        {
          "output_type": "stream",
          "name": "stdout",
          "text": [
            "   name age grade\n",
            "1 Alice  20     A\n",
            "2   Bob  21     B\n",
            "3 Carol  19     A"
          ]
        },
        {
          "output_type": "stream",
          "name": "stdout",
          "text": [
            "[1] \"Alice\" \"Bob\"   \"Carol\""
          ]
        },
        {
          "output_type": "stream",
          "name": "stdout",
          "text": [
            "[1] 20 21 19"
          ]
        },
        {
          "output_type": "stream",
          "name": "stdout",
          "text": [
            "[1] 20 21 19"
          ]
        },
        {
          "output_type": "stream",
          "name": "stdout",
          "text": [
            "   name age grade\n",
            "1 Alice  20     A"
          ]
        },
        {
          "output_type": "stream",
          "name": "stdout",
          "text": [
            "   name age grade\n",
            "1 Alice  20     A\n",
            "2   Bob  21     B"
          ]
        }
      ],
      "source": [
        "# Access columns\n",
        "students"
      ],
      "id": "366b42de-f9b9-4b27-bc62-89ddc8abadb8"
    },
    {
      "cell_type": "markdown",
      "metadata": {},
      "source": [
        "------------------------------------------------------------------------"
      ],
      "id": "f1c868ff-c07a-4c9b-a630-0f49d7d2971c"
    },
    {
      "cell_type": "code",
      "execution_count": null,
      "metadata": {},
      "outputs": [
        {
          "output_type": "stream",
          "name": "stdout",
          "text": [
            "   name age grade\n",
            "1 Alice  20     A\n",
            "2   Bob  21     B\n",
            "3 Carol  19     A"
          ]
        },
        {
          "output_type": "stream",
          "name": "stdout",
          "text": [
            "[1] 20"
          ]
        },
        {
          "output_type": "stream",
          "name": "stdout",
          "text": [
            "[1] 20"
          ]
        }
      ],
      "source": [
        "students"
      ],
      "id": "b3049120-9ea3-464d-bebc-744199ac9a5a"
    },
    {
      "cell_type": "markdown",
      "metadata": {},
      "source": [
        "------------------------------------------------------------------------\n",
        "\n",
        "### Data Frame Operations"
      ],
      "id": "e0a8acd8-ff33-4810-9abd-dcf17cae8c9b"
    },
    {
      "cell_type": "code",
      "execution_count": null,
      "metadata": {},
      "outputs": [
        {
          "output_type": "stream",
          "name": "stdout",
          "text": [
            "   name age grade passed\n",
            "1 Alice  20     A   TRUE\n",
            "2   Bob  21     B   TRUE\n",
            "3 Carol  19     A  FALSE"
          ]
        },
        {
          "output_type": "stream",
          "name": "stdout",
          "text": [
            "     name                age          grade             passed       \n",
            " Length:3           Min.   :19.0   Length:3           Mode :logical  \n",
            " Class :character   1st Qu.:19.5   Class :character   FALSE:1        \n",
            " Mode  :character   Median :20.0   Mode  :character   TRUE :2        \n",
            "                    Mean   :20.0                                     \n",
            "                    3rd Qu.:20.5                                     \n",
            "                    Max.   :21.0                                     "
          ]
        }
      ],
      "source": [
        "# Add column\n",
        "students$passed <- c(TRUE, TRUE, FALSE)\n",
        "students"
      ],
      "id": "8cd5b8c9-6dbc-4e91-a387-3e46ce1fc03d"
    },
    {
      "cell_type": "markdown",
      "metadata": {},
      "source": [
        "------------------------------------------------------------------------\n",
        "\n",
        "### Data Frame Operations"
      ],
      "id": "032191b8-c905-44fe-bea1-5856fcf99d2b"
    },
    {
      "cell_type": "code",
      "execution_count": null,
      "metadata": {},
      "outputs": [
        {
          "output_type": "stream",
          "name": "stdout",
          "text": [
            "   name age grade passed\n",
            "1 Alice  20     A   TRUE\n",
            "2   Bob  21     B   TRUE\n",
            "3 Carol  19     A  FALSE"
          ]
        },
        {
          "output_type": "stream",
          "name": "stdout",
          "text": [
            "   name age grade passed\n",
            "1 Alice  20     A   TRUE\n",
            "2   Bob  21     B   TRUE\n",
            "3 Carol  19     A  FALSE"
          ]
        }
      ],
      "source": [
        "# View first/last rows\n",
        "head(students)"
      ],
      "id": "950c7599-c7aa-4c02-9246-53f7ef14da48"
    },
    {
      "cell_type": "markdown",
      "metadata": {},
      "source": [
        "------------------------------------------------------------------------\n",
        "\n",
        "## Reading Data\n",
        "\n",
        "### Reading CSV Files"
      ],
      "id": "13b3980f-ee5a-417d-8007-fa0fb7ef7dcf"
    },
    {
      "cell_type": "code",
      "execution_count": null,
      "metadata": {},
      "outputs": [
        {
          "output_type": "stream",
          "name": "stdout",
          "text": [
            "  Gene_Symbol         Gene_ID Control_1 Control_2 Treatment_1 Treatment_2\n",
            "1       GAPDH ENSG00000111640      1250      1180         980        1050\n",
            "2        ACTB ENSG00000075624       890       920         750         820\n",
            "3        TP53 ENSG00000141510       450       480         680         720\n",
            "4         MYC ENSG00000136997       320       350         580         620\n",
            "5        EGFR ENSG00000146648       180       200         450         480\n",
            "6       BRCA1 ENSG00000012048       150       170         380         410"
          ]
        }
      ],
      "source": [
        "# Read CSV file\n",
        "data <- read.csv(\"assets/data.csv\")\n",
        "head(data)"
      ],
      "id": "afc34356-138b-43c2-996e-39bd319aeff8"
    },
    {
      "cell_type": "markdown",
      "metadata": {},
      "source": [
        "------------------------------------------------------------------------\n",
        "\n",
        "### Reading CSV Files\n",
        "\n",
        "Factors in R are a special data type used to represent categorical data\n",
        "with predefined levels. They’re like labeled categories that can be\n",
        "ordered or unordered. stringsAsFactors = FALSE prevents automatic\n",
        "conversion of strings to factors."
      ],
      "id": "e0745b98-38cd-4b38-a16f-31fcdf2ab52f"
    },
    {
      "cell_type": "code",
      "execution_count": null,
      "metadata": {},
      "outputs": [
        {
          "output_type": "stream",
          "name": "stdout",
          "text": [
            "  Gene_Symbol         Gene_ID Control_1 Control_2 Treatment_1 Treatment_2\n",
            "1       GAPDH ENSG00000111640      1250      1180         980        1050\n",
            "2        ACTB ENSG00000075624       890       920         750         820\n",
            "3        TP53 ENSG00000141510       450       480         680         720\n",
            "4         MYC ENSG00000136997       320       350         580         620\n",
            "5        EGFR ENSG00000146648       180       200         450         480\n",
            "6       BRCA1 ENSG00000012048       150       170         380         410"
          ]
        }
      ],
      "source": [
        "# With custom options\n",
        "data <- read.csv(\"assets/data.csv\", \n",
        "                 header = TRUE,\n",
        "                 sep = \",\",\n",
        "                 stringsAsFactors = FALSE)\n",
        "head(data)"
      ],
      "id": "7c41a9d0-789f-4144-8578-f73ee5762596"
    },
    {
      "cell_type": "markdown",
      "metadata": {},
      "source": [
        "------------------------------------------------------------------------\n",
        "\n",
        "### Reading Excel Files"
      ],
      "id": "9dd18932-18e2-43fa-9c49-9a57433c808f"
    },
    {
      "cell_type": "code",
      "execution_count": null,
      "metadata": {},
      "outputs": [
        {
          "output_type": "stream",
          "name": "stdout",
          "text": [
            "# A tibble: 6 × 6\n",
            "  Gene_Symbol Gene_ID         Control_1 Control_2 Treatment_1 Treatment_2\n",
            "  <chr>       <chr>               <dbl>     <dbl>       <dbl>       <dbl>\n",
            "1 GAPDH       ENSG00000111640      1250      1180         980        1050\n",
            "2 ACTB        ENSG00000075624       890       920         750         820\n",
            "3 TP53        ENSG00000141510       450       480         680         720\n",
            "4 MYC         ENSG00000136997       320       350         580         620\n",
            "5 EGFR        ENSG00000146648       180       200         450         480\n",
            "6 BRCA1       ENSG00000012048       150       170         380         410"
          ]
        },
        {
          "output_type": "stream",
          "name": "stdout",
          "text": [
            "# A tibble: 6 × 6\n",
            "  Gene_Symbol Gene_ID         Control_1 Control_2 Treatment_1 Treatment_2\n",
            "  <chr>       <chr>               <dbl>     <dbl>       <dbl>       <dbl>\n",
            "1 GAPDH       ENSG00000111640      1250      1180         980        1050\n",
            "2 ACTB        ENSG00000075624       890       920         750         820\n",
            "3 TP53        ENSG00000141510       450       480         680         720\n",
            "4 MYC         ENSG00000136997       320       350         580         620\n",
            "5 EGFR        ENSG00000146648       180       200         450         480\n",
            "6 BRCA1       ENSG00000012048       150       170         380         410"
          ]
        }
      ],
      "source": [
        "# Install readxl if needed\n",
        "# install.packages(\"readxl\")\n",
        "library(readxl)\n",
        "\n",
        "# Read Excel file\n",
        "excel_data <- read_excel(\"assets/data.xlsx\")\n",
        "head(excel_data)"
      ],
      "id": "c666b17a-2389-4ef5-8505-951c9fbc0c6e"
    },
    {
      "cell_type": "markdown",
      "metadata": {},
      "source": [
        "------------------------------------------------------------------------\n",
        "\n",
        "### Other File Formats"
      ],
      "id": "8c0c26c4-3b90-4e3f-8181-eda7cc8d5a70"
    },
    {
      "cell_type": "code",
      "execution_count": null,
      "metadata": {},
      "outputs": [
        {
          "output_type": "stream",
          "name": "stdout",
          "text": [
            "  Gene_Symbol         Gene_ID Control_1 Control_2 Treatment_1 Treatment_2\n",
            "1       GAPDH ENSG00000111640      1250      1180         980        1050\n",
            "2        ACTB ENSG00000075624       890       920         750         820\n",
            "3        TP53 ENSG00000141510       450       480         680         720\n",
            "4         MYC ENSG00000136997       320       350         580         620\n",
            "5        EGFR ENSG00000146648       180       200         450         480\n",
            "6       BRCA1 ENSG00000012048       150       170         380         410"
          ]
        }
      ],
      "source": [
        "# Read tab-separated file\n",
        "tsv_data <- read.delim(\"assets/data.tsv\")\n",
        "head(tsv_data)"
      ],
      "id": "7afa4b09-1e9b-4c1d-954c-7532fbca0d35"
    },
    {
      "cell_type": "markdown",
      "metadata": {},
      "source": [
        "------------------------------------------------------------------------\n",
        "\n",
        "## Writing Functions\n",
        "\n",
        "### Basic Function Structure"
      ],
      "id": "6e10f701-7830-47e3-b936-17245c332c8f"
    },
    {
      "cell_type": "code",
      "execution_count": null,
      "metadata": {},
      "outputs": [
        {
          "output_type": "stream",
          "name": "stdout",
          "text": [
            "[1] \"Hello, Alice !\""
          ]
        }
      ],
      "source": [
        "# Simple function\n",
        "greet <- function(name) {\n",
        "  message <- paste(\"Hello,\", name, \"!\")\n",
        "  return(message)\n",
        "}\n",
        "\n",
        "# Call the function\n",
        "greet(\"Alice\")"
      ],
      "id": "06ab0ea5-ebd7-4af7-9b19-37e2e240614e"
    },
    {
      "cell_type": "markdown",
      "metadata": {},
      "source": [
        "### Functions with Multiple Parameters"
      ],
      "id": "0dad836f-8788-4c89-839b-d0d4038bd00e"
    },
    {
      "cell_type": "code",
      "execution_count": null,
      "metadata": {},
      "outputs": [
        {
          "output_type": "stream",
          "name": "stdout",
          "text": [
            "[1] 22.85714"
          ]
        }
      ],
      "source": [
        "# Function with multiple parameters\n",
        "calculate_bmi <- function(weight_kg, height_m) {\n",
        "  bmi <- weight_kg / (height_m^2)\n",
        "  return(bmi)\n",
        "}\n",
        "\n",
        "# Usage\n",
        "calculate_bmi(70, 1.75)"
      ],
      "id": "1d0d5a96-487e-4a0e-9ab8-a49128690e52"
    },
    {
      "cell_type": "markdown",
      "metadata": {},
      "source": [
        "------------------------------------------------------------------------\n",
        "\n",
        "### Functions with Default Values"
      ],
      "id": "4b0b2dac-82e2-46e2-9fe8-8d61e52b4732"
    },
    {
      "cell_type": "code",
      "execution_count": null,
      "metadata": {},
      "outputs": [
        {
          "output_type": "stream",
          "name": "stdout",
          "text": [
            "[1] 9"
          ]
        },
        {
          "output_type": "stream",
          "name": "stdout",
          "text": [
            "[1] 27"
          ]
        }
      ],
      "source": [
        "# Function with defaults\n",
        "power_function <- function(x, power = 2) {\n",
        "  result <- x^power\n",
        "  return(result)\n",
        "}\n",
        "\n",
        "# Usage\n",
        "power_function(3)      # Uses default power = 2"
      ],
      "id": "36901f74-3526-4417-a477-29bf81128045"
    },
    {
      "cell_type": "markdown",
      "metadata": {},
      "source": [
        "------------------------------------------------------------------------\n",
        "\n",
        "### Functions with Conditional Logic"
      ],
      "id": "5bf65589-722f-4ac5-a40e-aa64954c05ac"
    },
    {
      "cell_type": "code",
      "execution_count": null,
      "metadata": {},
      "outputs": [
        {
          "output_type": "stream",
          "name": "stdout",
          "text": [
            "[1] \"B\""
          ]
        },
        {
          "output_type": "stream",
          "name": "stdout",
          "text": [
            "[1] \"A\""
          ]
        }
      ],
      "source": [
        "# Function with if-else\n",
        "grade_letter <- function(score) {\n",
        "  if (score >= 90) {\n",
        "    return(\"A\")\n",
        "  } else if (score >= 80) {\n",
        "    return(\"B\")\n",
        "  } else if (score >= 70) {\n",
        "    return(\"C\")\n",
        "  } else {\n",
        "    return(\"F\")\n",
        "  }\n",
        "}\n",
        "\n",
        "# Usage\n",
        "grade_letter(85)"
      ],
      "id": "d2d09c2f-5f7e-4317-a380-13a806bd7c68"
    },
    {
      "cell_type": "markdown",
      "metadata": {},
      "source": [
        "------------------------------------------------------------------------\n",
        "\n",
        "## Practice Time! 💻\n",
        "\n",
        "### Exercise 1: Variables and Types\n",
        "\n",
        "1.  Create variables for your name, age, and height\n",
        "2.  Check their data types with `class()`\n",
        "3.  Convert your age to character and height to integer"
      ],
      "id": "7285951b-83c6-4709-9c60-191cb17a5834"
    },
    {
      "cell_type": "code",
      "execution_count": null,
      "metadata": {},
      "outputs": [
        {
          "output_type": "stream",
          "name": "stdout",
          "text": [
            "[1] \"character\""
          ]
        },
        {
          "output_type": "stream",
          "name": "stdout",
          "text": [
            "[1] \"numeric\""
          ]
        },
        {
          "output_type": "stream",
          "name": "stdout",
          "text": [
            "[1] \"numeric\""
          ]
        },
        {
          "output_type": "stream",
          "name": "stdout",
          "text": [
            "[1] \"25\""
          ]
        },
        {
          "output_type": "stream",
          "name": "stdout",
          "text": [
            "[1] 1"
          ]
        }
      ],
      "source": [
        "# Your code here\n",
        "name <- \"Your Name\"\n",
        "age <- 25\n",
        "height <- 1.75\n",
        "\n",
        "class(name)"
      ],
      "id": "a649b409-9ca6-4eb3-aaa7-0d39406d86b3"
    },
    {
      "cell_type": "markdown",
      "metadata": {},
      "source": [
        "------------------------------------------------------------------------\n",
        "\n",
        "### Exercise 2: Vectors and Data Frames\n",
        "\n",
        "1.  Create a vector of your favorite numbers\n",
        "2.  Create a data frame with names and scores\n",
        "3.  Calculate the mean of the scores"
      ],
      "id": "b94fe4b6-f366-4ae5-b0fd-d83a4c32d721"
    },
    {
      "cell_type": "code",
      "execution_count": null,
      "metadata": {},
      "outputs": [
        {
          "output_type": "stream",
          "name": "stdout",
          "text": [
            "[1] 85"
          ]
        }
      ],
      "source": [
        "# Your code here\n",
        "numbers <- c(1, 5, 10, 15, 20)\n",
        "\n",
        "scores_df <- data.frame(\n",
        "  name = c(\"Alice\", \"Bob\", \"Carol\"),\n",
        "  score = c(85, 92, 78)\n",
        ")\n",
        "\n",
        "mean(scores_df$score)"
      ],
      "id": "73a1deec-2db7-448c-b196-d8e704eb8e49"
    },
    {
      "cell_type": "markdown",
      "metadata": {},
      "source": [
        "------------------------------------------------------------------------\n",
        "\n",
        "## Quiz Time! 🧠\n",
        "\n",
        "### Question 1\n",
        "\n",
        "Which operator is used for assignment in R? - A) `=` - B) `<-` - C) Both\n",
        "A and B\n",
        "\n",
        "### Question 2\n",
        "\n",
        "What function creates a vector in R? - A) `vector()` - B) `c()` - C)\n",
        "`make_vector()`\n",
        "\n",
        "### Question 3\n",
        "\n",
        "How do you access the first element of a vector named `my_vec`? - A)\n",
        "`my_vec[0]` - B) `my_vec[1]` - C) `my_vec.first`\n",
        "\n",
        "*(Answers: 1-C, 2-B, 3-B)*\n",
        "\n",
        "------------------------------------------------------------------------\n",
        "\n",
        "## Thank You!\n",
        "\n",
        "You’ve completed the basic R programming tutorial!\n",
        "\n",
        "### Remember:\n",
        "\n",
        "-   Use `?function_name` for help\n",
        "-   Install packages with `install.packages()`\n",
        "-   Load packages with `library()`\n",
        "-   Practice regularly with real data\n",
        "\n",
        "### Questions?\n",
        "\n",
        "Feel free to ask your instructor or classmates!\n",
        "\n",
        "🐧 Happy R programming! 🐧\n",
        "\n",
        "------------------------------------------------------------------------\n",
        "\n",
        "## Next Steps\n",
        "\n",
        "### What to Learn Next\n",
        "\n",
        "-   Data manipulation with dplyr\n",
        "-   Data visualization with ggplot2\n",
        "-   Statistical analysis functions\n",
        "-   Writing R scripts and RMarkdown\n",
        "-   Advanced data structures\n",
        "-   Working with dates and times\n",
        "\n",
        "### Resources\n",
        "\n",
        "-   [R for Data Science](https://r4ds.had.co.nz/) - Free online book\n",
        "-   [RStudio Education](https://education.rstudio.com/) - Learning\n",
        "    resources\n",
        "-   [CRAN Task Views](https://cran.r-project.org/web/views/) - Package\n",
        "    collections\n",
        "-   [R Documentation](https://www.rdocumentation.org/) - Function\n",
        "    reference"
      ],
      "id": "581351ed-4646-42e6-84a9-3869f1db0787"
    }
  ],
  "nbformat": 4,
  "nbformat_minor": 5,
  "metadata": {
    "kernelspec": {
      "display_name": "Python 3",
      "language": "python",
      "name": "python3"
    }
  }
}