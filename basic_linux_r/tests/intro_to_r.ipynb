{
  "cells": [
    {
      "cell_type": "markdown",
      "metadata": {},
      "source": [
        "# Omics - Analysis of large-scale biomolecular datasets Introduction to\n",
        "\n",
        "R\n",
        "\n",
        "KIMN20 - LTH\n",
        "\n",
        "Daniel Nilsson  \n",
        "Massimiliano Volpe  \n",
        "2025-10-30\n",
        "\n",
        "## Introduction to R\n",
        "\n",
        "### Course date: 04 November 2025\n",
        "\n",
        "### Last modified: 2025-10-30\n",
        "\n",
        "## Welcome to R Programming! 🐧\n",
        "\n",
        "This presentation will teach you the fundamentals of R programming for\n",
        "data analysis.\n",
        "\n",
        "### What we’ll cover:\n",
        "\n",
        "-   R language basics and getting help\n",
        "-   Working with packages\n",
        "-   Variables and data types\n",
        "-   Data structures (vectors, matrices, lists, data frames)\n",
        "-   Reading data from files\n",
        "-   Writing functions\n",
        "\n",
        "------------------------------------------------------------------------\n",
        "\n",
        "## What R is?\n",
        "\n",
        "**R is a programming language and environment designed for statistical\n",
        "computing and graphics.**\n",
        "\n",
        "### Key Characteristics:\n",
        "\n",
        "-   **Programming Language**: High-level language for data analysis and\n",
        "    visualization\n",
        "-   **Programming Platform**: Complete environment with interpreter and\n",
        "    development tools\n",
        "-   **Open-Source Project**: Driven by the R core team and global\n",
        "    community\n",
        "-   **Statistical Powerhouse**: Specialized for statistical analysis and\n",
        "    modeling\n",
        "-   **General-Purpose Tool**: Can handle diverse computational tasks\n",
        "-   **Idea-to-Implementation Bridge**: Transforms concepts into working\n",
        "    solutions\n",
        "\n",
        "### What R is NOT:\n",
        "\n",
        "-   A replacement for statistical expertise\n",
        "-   The “best” programming language for every task\n",
        "-   Always the most elegant or efficient solution\n",
        "\n",
        "### Yet R Excels At:\n",
        "\n",
        "-   Statistical computing and data analysis\n",
        "-   High-quality graphics and visualization\n",
        "-   Rapid prototyping of analytical methods\n",
        "-   Integration with other scientific tools\n",
        "\n",
        "------------------------------------------------------------------------\n",
        "\n",
        "## Why R in Bioinformatics?\n",
        "\n",
        "**R is the de facto standard for bioinformatics analysis.**\n",
        "\n",
        "### Statistical Power:\n",
        "\n",
        "-   Comprehensive statistics and cutting-edge methods\n",
        "-   Reproducible, script-based research\n",
        "\n",
        "### Specialized Ecosystem:\n",
        "\n",
        "-   **Bioconductor**: 2,000+ packages for genomics, proteomics,\n",
        "    sequencing\n",
        "-   **CRAN**: 18,000+ general-purpose packages\n",
        "-   Complete analysis pipelines\n",
        "\n",
        "### Visualization Excellence:\n",
        "\n",
        "-   Publication-quality graphics (ggplot2)\n",
        "-   Interactive and specialized bioinformatics plots\n",
        "\n",
        "### Active Community:\n",
        "\n",
        "-   Regular updates and new developments\n",
        "-   Integrates with Python, databases, web services\n",
        "\n",
        "------------------------------------------------------------------------\n",
        "\n",
        "## Getting Started with R\n",
        "\n",
        "### Opening R/RStudio\n",
        "\n",
        "-   **Command line**: Type `R` in terminal\n",
        "-   **RStudio**: Download from\n",
        "    https://posit.co/download/rstudio-desktop/\n",
        "-   **Web-based**: Use RStudio Cloud or Google Colab with R kernel\n",
        "-   **RStudio Server**:<https://130.235.8.214/rstudio>\n",
        "\n",
        "### Your First R Commands"
      ],
      "id": "7710f673-6f00-4700-82cb-cc364537622b"
    },
    {
      "cell_type": "code",
      "execution_count": null,
      "metadata": {},
      "outputs": [
        {
          "output_type": "stream",
          "name": "stdout",
          "text": [
            "[1] \"Hello, R!\""
          ]
        }
      ],
      "source": [
        "# This is a comment - it won't execute\n",
        "print(\"Hello, R!\")"
      ],
      "id": "ad97f7e0-0bd9-4b10-91c3-0d80254dd170"
    },
    {
      "cell_type": "markdown",
      "metadata": {},
      "source": [
        "Try running this command in your R console!\n",
        "\n",
        "------------------------------------------------------------------------\n",
        "\n",
        "### R as a Calculator"
      ],
      "id": "b7f3a748-1f53-4731-8e44-1bc6f0845c58"
    },
    {
      "cell_type": "code",
      "execution_count": null,
      "metadata": {},
      "outputs": [
        {
          "output_type": "stream",
          "name": "stdout",
          "text": [
            "[1] 5"
          ]
        },
        {
          "output_type": "stream",
          "name": "stdout",
          "text": [
            "[1] 6"
          ]
        },
        {
          "output_type": "stream",
          "name": "stdout",
          "text": [
            "[1] 30"
          ]
        },
        {
          "output_type": "stream",
          "name": "stdout",
          "text": [
            "[1] 5"
          ]
        },
        {
          "output_type": "stream",
          "name": "stdout",
          "text": [
            "[1] 8"
          ]
        }
      ],
      "source": [
        "# Basic arithmetic\n",
        "2 + 3"
      ],
      "id": "9de68d75-fafd-433d-80d1-2d8f373599a0"
    },
    {
      "cell_type": "markdown",
      "metadata": {},
      "source": [
        "------------------------------------------------------------------------\n",
        "\n",
        "## Getting Help\n",
        "\n",
        "### Built-in Help Functions"
      ],
      "id": "c293fe3a-69dc-4245-979d-84b34aea8bb4"
    },
    {
      "cell_type": "code",
      "execution_count": null,
      "metadata": {},
      "outputs": [],
      "source": [
        "# Get help for a function\n",
        "?print\n",
        "help(print)\n",
        "\n",
        "# Search for functions\n",
        "??plot\n",
        "help.search(\"plot\")"
      ],
      "id": "511bbf7a-a915-4bf1-9b91-6568eef3959f"
    },
    {
      "cell_type": "markdown",
      "metadata": {},
      "source": [
        "### Help for Packages"
      ],
      "id": "51e5e247-e1f6-4b69-a2da-5ef5b9e16e45"
    },
    {
      "cell_type": "code",
      "execution_count": null,
      "metadata": {},
      "outputs": [],
      "source": [
        "# Get help for installed packages\n",
        "help(package = \"base\")\n",
        "\n",
        "# Vignettes (detailed tutorials)\n",
        "vignette()\n",
        "# vignette(\"ggplot2\")  # Commented out to prevent browser opening"
      ],
      "id": "27dd7b08-a5cc-4764-948c-befb845ba965"
    },
    {
      "cell_type": "markdown",
      "metadata": {},
      "source": [
        "------------------------------------------------------------------------\n",
        "\n",
        "## Working with Packages\n",
        "\n",
        "### Installing Packages"
      ],
      "id": "353e6901-3c01-4392-8fc2-d71a7e48726d"
    },
    {
      "cell_type": "code",
      "execution_count": null,
      "metadata": {},
      "outputs": [],
      "source": [
        "# Commented out to prevent browser opening\n",
        "# Install from CRAN (main repository)\n",
        "install.packages(\"tidyverse\")\n",
        "\n",
        "# Install multiple packages\n",
        "install.packages(c(\"dplyr\", \"ggplot2\", \"readr\"))"
      ],
      "id": "8b9f96a6-7c32-44a5-baf5-bb19daf288f7"
    },
    {
      "cell_type": "markdown",
      "metadata": {},
      "source": [
        "### Loading Packages"
      ],
      "id": "ef1d8511-8408-402c-b43b-55c9ee40a22f"
    },
    {
      "cell_type": "code",
      "execution_count": null,
      "metadata": {},
      "outputs": [
        {
          "output_type": "stream",
          "name": "stderr",
          "text": [
            "── Attaching core tidyverse packages ──────────────────────── tidyverse 2.0.0 ──\n",
            "✔ dplyr     1.1.4     ✔ readr     2.1.5\n",
            "✔ forcats   1.0.0     ✔ stringr   1.5.1\n",
            "✔ ggplot2   3.5.1     ✔ tibble    3.2.1\n",
            "✔ lubridate 1.9.4     ✔ tidyr     1.3.1\n",
            "✔ purrr     1.0.2     \n",
            "── Conflicts ────────────────────────────────────────── tidyverse_conflicts() ──\n",
            "✖ dplyr::filter() masks stats::filter()\n",
            "✖ dplyr::lag()    masks stats::lag()\n",
            "ℹ Use the conflicted package (<http://conflicted.r-lib.org/>) to force all conflicts to become errors"
          ]
        }
      ],
      "source": [
        "# Load a package\n",
        "library(tidyverse)"
      ],
      "id": "1e2eae49-c342-4aa3-b5c0-a4516feb46c2"
    },
    {
      "cell_type": "markdown",
      "metadata": {},
      "source": [
        "------------------------------------------------------------------------\n",
        "\n",
        "### Package Management"
      ],
      "id": "c4c4b0d7-88f9-4185-af33-eefef0c8f03f"
    },
    {
      "cell_type": "code",
      "execution_count": null,
      "metadata": {},
      "outputs": [
        {
          "output_type": "stream",
          "name": "stdout",
          "text": [
            "R version 4.4.1 (2024-06-14)\n",
            "Platform: aarch64-apple-darwin20\n",
            "Running under: macOS 15.7.1\n",
            "\n",
            "Matrix products: default\n",
            "BLAS:   /Library/Frameworks/R.framework/Versions/4.4-arm64/Resources/lib/libRblas.0.dylib \n",
            "LAPACK: /Library/Frameworks/R.framework/Versions/4.4-arm64/Resources/lib/libRlapack.dylib;  LAPACK version 3.12.0\n",
            "\n",
            "locale:\n",
            "[1] en_US.UTF-8/en_US.UTF-8/en_US.UTF-8/C/en_US.UTF-8/en_US.UTF-8\n",
            "\n",
            "time zone: Europe/Stockholm\n",
            "tzcode source: internal\n",
            "\n",
            "attached base packages:\n",
            "[1] stats     graphics  grDevices utils     datasets  methods   base     \n",
            "\n",
            "other attached packages:\n",
            " [1] lubridate_1.9.4 forcats_1.0.0   stringr_1.5.1   dplyr_1.1.4    \n",
            " [5] purrr_1.0.2     readr_2.1.5     tidyr_1.3.1     tibble_3.2.1   \n",
            " [9] ggplot2_3.5.1   tidyverse_2.0.0\n",
            "\n",
            "loaded via a namespace (and not attached):\n",
            " [1] gtable_0.3.6      jsonlite_1.8.9    compiler_4.4.1    tidyselect_1.2.1 \n",
            " [5] scales_1.3.0      yaml_2.3.10       fastmap_1.2.0     R6_2.5.1         \n",
            " [9] generics_0.1.3    knitr_1.50        munsell_0.5.1     pillar_1.9.0     \n",
            "[13] tzdb_0.4.0        rlang_1.1.4       utf8_1.2.4        stringi_1.8.4    \n",
            "[17] xfun_0.53         timechange_0.3.0  cli_3.6.3         withr_3.0.2      \n",
            "[21] magrittr_2.0.3    digest_0.6.37     grid_4.4.1        hms_1.1.3        \n",
            "[25] lifecycle_1.0.4   vctrs_0.6.5       evaluate_1.0.1    glue_1.8.0       \n",
            "[29] fansi_1.0.6       colorspace_2.1-1  rmarkdown_2.30    tools_4.4.1      \n",
            "[33] pkgconfig_2.0.3   htmltools_0.5.8.1"
          ]
        }
      ],
      "source": [
        "# See loaded packages\n",
        "sessionInfo()"
      ],
      "id": "0ca064f4-395c-4fa0-a1e5-addf467633e2"
    },
    {
      "cell_type": "code",
      "execution_count": null,
      "metadata": {},
      "outputs": [],
      "source": [
        "# Update packages\n",
        "update.packages()\n",
        "\n",
        "# Remove packages\n",
        "remove.packages(\"package_name\")"
      ],
      "id": "31cf3094-ef86-413c-ae49-4d9c11c7db90"
    },
    {
      "cell_type": "markdown",
      "metadata": {},
      "source": [
        "------------------------------------------------------------------------\n",
        "\n",
        "## Bioconductor\n",
        "\n",
        "**Bioconductor** is the premier repository for R packages in\n",
        "bioinformatics and computational biology.\n",
        "\n",
        "### Key Features:\n",
        "\n",
        "-   **Specialized Tools**: Packages for genomics, proteomics, sequencing\n",
        "    analysis\n",
        "-   **Quality Assurance**: Rigorous review process ensures high-quality,\n",
        "    well-documented packages\n",
        "-   **Integrated Workflows**: Complete analysis pipelines from raw data\n",
        "    to publication\n",
        "-   **Active Community**: Regular updates and new package releases\n",
        "\n",
        "------------------------------------------------------------------------\n",
        "\n",
        "### Installing Bioconductor Packages"
      ],
      "id": "6811b31c-f4ad-42e7-9bba-8d6a6d6bc605"
    },
    {
      "cell_type": "code",
      "execution_count": null,
      "metadata": {},
      "outputs": [],
      "source": [
        "# Install Bioconductor manager (one time)\n",
        "if (!require(\"BiocManager\", quietly = TRUE))\n",
        "    install.packages(\"BiocManager\")\n",
        "\n",
        "# Install packages\n",
        "BiocManager::install(\"DESeq2\")        # RNA-seq analysis\n",
        "BiocManager::install(\"edgeR\")         # Differential expression\n",
        "BiocManager::install(\"limma\")         # Microarray analysis\n",
        "BiocManager::install(\"GenomicRanges\") # Genomic intervals"
      ],
      "id": "8c31db37-23df-40fe-9d7c-7f46d3118b09"
    },
    {
      "cell_type": "markdown",
      "metadata": {},
      "source": [
        "### Popular Bioconductor Packages:\n",
        "\n",
        "-   **DESeq2**: RNA-seq differential expression analysis\n",
        "-   **edgeR**: Alternative for RNA-seq and count data\n",
        "-   **limma**: Linear models for microarray data\n",
        "-   **Biostrings**: DNA/RNA sequence manipulation\n",
        "-   **GenomicRanges**: Working with genomic coordinates\n",
        "\n",
        "------------------------------------------------------------------------\n",
        "\n",
        "## Variables and Assignment\n",
        "\n",
        "A variable is a named storage location in memory that holds a value or\n",
        "object. Variables allow you to store, reference, and manipulate data\n",
        "throughout your R session.\n",
        "\n",
        "### Creating Variables"
      ],
      "id": "1181f655-1cc1-4c12-b98f-233f3f5f0563"
    },
    {
      "cell_type": "code",
      "execution_count": null,
      "metadata": {},
      "outputs": [
        {
          "output_type": "stream",
          "name": "stdout",
          "text": [
            "[1] 5"
          ]
        },
        {
          "output_type": "stream",
          "name": "stdout",
          "text": [
            "[1] 10"
          ]
        }
      ],
      "source": [
        "# Assignment operators\n",
        "x <- 5\n",
        "y = 10\n",
        "20 -> z\n",
        "\n",
        "# Print variables\n",
        "x"
      ],
      "id": "91b3c34d-99b7-4935-8ac3-b6585c477f3f"
    },
    {
      "cell_type": "markdown",
      "metadata": {},
      "source": [
        "**Note**: `<-` is preferred for assignment, `=` is used for function\n",
        "arguments.\n",
        "\n",
        "------------------------------------------------------------------------\n",
        "\n",
        "### Variable Names"
      ],
      "id": "86943e48-a459-4879-aac6-b5867ec9a8d6"
    },
    {
      "cell_type": "code",
      "execution_count": null,
      "metadata": {},
      "outputs": [],
      "source": [
        "# Valid names\n",
        "my_variable <- 1\n",
        "myVariable <- 2\n",
        ".variable <- 3\n",
        "variable. <- 4\n",
        "\n",
        "# Invalid names (would cause errors)\n",
        "# 1variable <- 5\n",
        "# my-variable <- 6\n",
        "# my variable <- 7"
      ],
      "id": "35f39dcd-408d-4194-8262-031ce1c34c62"
    },
    {
      "cell_type": "markdown",
      "metadata": {},
      "source": [
        "------------------------------------------------------------------------\n",
        "\n",
        "### Variable Naming Conventions\n",
        "\n",
        "Rules for valid variable names in R:\n",
        "\n",
        "#### Valid Names:\n",
        "\n",
        "-   Start with a letter or dot (not followed by number)\n",
        "-   Contain letters, numbers, dots, or underscores\n",
        "-   Examples: `my_var`, `myVariable`, `.hidden`, `var2`\n",
        "\n",
        "#### Invalid Names:\n",
        "\n",
        "-   Start with number: `2variable` ❌\n",
        "-   Contain spaces: `my variable` ❌\n",
        "-   Use hyphens: `my-variable` ❌\n",
        "-   Start with dot + number: `.2way` ❌\n",
        "\n",
        "------------------------------------------------------------------------\n",
        "\n",
        "### Variable Naming Conventions\n",
        "\n",
        "Rules for valid variable names in R:\n",
        "\n",
        "#### Reserved Words (cannot use):\n",
        "\n",
        "-   `if`, `else`, `repeat`, `while`, `function`\n",
        "-   `for`, `in`, `next`, `break`\n",
        "-   `TRUE`, `FALSE`, `NULL`, `Inf`, `NaN`\n",
        "-   `NA`, `NA_integer_`, `NA_real_`, `NA_complex_`, `NA_character_`\n",
        "-   Built-in functions: `c`, `q`, `t`, `C`, `D`, `I`\n",
        "-   Avoid using: `T`, `F` (short for TRUE/FALSE)\n",
        "\n",
        "------------------------------------------------------------------------\n",
        "\n",
        "### Variable Naming Style\n",
        "\n",
        "Best practices for readable, maintainable code:\n",
        "\n",
        "#### Make Names Informative:\n",
        "\n",
        "-   Use descriptive names: `patient_ages` instead of `x`\n",
        "-   Avoid cryptic abbreviations: `genotypes` instead of `fsjht45jkhsdf4`\n",
        "\n",
        "#### Choose a Consistent Convention:\n",
        "\n",
        "-   **snake_case**: `my_variable`, `patient_data`\n",
        "-   **camelCase**: `myVariable`, `patientData`\n",
        "-   **dot.case**: `my.variable`, `patient.data`\n",
        "-   Pick one and stick with it throughout your code\n",
        "\n",
        "------------------------------------------------------------------------\n",
        "\n",
        "### Variable Naming Style\n",
        "\n",
        "Best practices for readable, maintainable code:\n",
        "\n",
        "#### Keep Names Reasonable Length:\n",
        "\n",
        "-   Short enough: `tmp` for temporary variables\n",
        "-   Long enough: `gene_expression_matrix` not `g_e_m`\n",
        "-   Avoid: `my.variable.2` → use `my.variable2`\n",
        "\n",
        "#### Common Conventions:\n",
        "\n",
        "-   `i`, `j`, `k`: Loop counters\n",
        "-   `tmp`: Temporary variables\n",
        "-   `df`: Data frames\n",
        "-   `n`: Counts or lengths\n",
        "-   `idx`: Indices\n",
        "\n",
        "------------------------------------------------------------------------\n",
        "\n",
        "## Data Types and Classes\n",
        "\n",
        "### Basic Data Types"
      ],
      "id": "2bc5ece5-23f6-4744-83c6-cd404791b7eb"
    },
    {
      "cell_type": "code",
      "execution_count": null,
      "metadata": {},
      "outputs": [
        {
          "output_type": "stream",
          "name": "stdout",
          "text": [
            "[1] \"numeric\""
          ]
        },
        {
          "output_type": "stream",
          "name": "stdout",
          "text": [
            "[1] \"integer\""
          ]
        },
        {
          "output_type": "stream",
          "name": "stdout",
          "text": [
            "[1] \"character\""
          ]
        },
        {
          "output_type": "stream",
          "name": "stdout",
          "text": [
            "[1] \"logical\""
          ]
        }
      ],
      "source": [
        "# Numeric (double)\n",
        "num <- 3.14\n",
        "class(num)"
      ],
      "id": "0f567636-e1ea-43dd-8f95-7c8d86f876c8"
    },
    {
      "cell_type": "markdown",
      "metadata": {},
      "source": [
        "------------------------------------------------------------------------\n",
        "\n",
        "### Type Checking"
      ],
      "id": "f9ca7e38-2c2b-470b-a50d-436690009784"
    },
    {
      "cell_type": "code",
      "execution_count": null,
      "metadata": {},
      "outputs": [
        {
          "output_type": "stream",
          "name": "stdout",
          "text": [
            "[1] TRUE"
          ]
        },
        {
          "output_type": "stream",
          "name": "stdout",
          "text": [
            "[1] TRUE"
          ]
        },
        {
          "output_type": "stream",
          "name": "stdout",
          "text": [
            "[1] TRUE"
          ]
        },
        {
          "output_type": "stream",
          "name": "stdout",
          "text": [
            "[1] TRUE"
          ]
        },
        {
          "output_type": "stream",
          "name": "stdout",
          "text": [
            "[1] TRUE"
          ]
        },
        {
          "output_type": "stream",
          "name": "stdout",
          "text": [
            "[1] FALSE"
          ]
        }
      ],
      "source": [
        "# Check data types\n",
        "is.numeric(num)"
      ],
      "id": "2c6ceb33-bc3b-4e89-8d47-5a1f545bf2de"
    },
    {
      "cell_type": "markdown",
      "metadata": {},
      "source": [
        "------------------------------------------------------------------------\n",
        "\n",
        "## Type Casting and Conversion\n",
        "\n",
        "### Converting Between Types"
      ],
      "id": "ebbb84d2-5255-46db-a21b-aee2144ba54d"
    },
    {
      "cell_type": "code",
      "execution_count": null,
      "metadata": {},
      "outputs": [
        {
          "output_type": "stream",
          "name": "stdout",
          "text": [
            "[1] \"3.14\""
          ]
        },
        {
          "output_type": "stream",
          "name": "stdout",
          "text": [
            "[1] 42.5"
          ]
        },
        {
          "output_type": "stream",
          "name": "stdout",
          "text": [
            "[1] 3"
          ]
        },
        {
          "output_type": "stream",
          "name": "stdout",
          "text": [
            "[1] 1"
          ]
        },
        {
          "output_type": "stream",
          "name": "stdout",
          "text": [
            "[1] 0"
          ]
        }
      ],
      "source": [
        "# Numeric to character\n",
        "as.character(3.14)"
      ],
      "id": "c38ad4ab-d670-4e99-bc9e-37c3b037c38a"
    },
    {
      "cell_type": "markdown",
      "metadata": {},
      "source": [
        "------------------------------------------------------------------------\n",
        "\n",
        "### Common Conversions"
      ],
      "id": "10d99595-8202-484a-afbd-1bb237d486af"
    },
    {
      "cell_type": "code",
      "execution_count": null,
      "metadata": {},
      "outputs": [
        {
          "output_type": "stream",
          "name": "stdout",
          "text": [
            "[1] TRUE"
          ]
        },
        {
          "output_type": "stream",
          "name": "stdout",
          "text": [
            "[1] FALSE"
          ]
        },
        {
          "output_type": "stream",
          "name": "stdout",
          "text": [
            "[1] \"A\" \"B\" \"A\""
          ]
        }
      ],
      "source": [
        "# String to logical\n",
        "as.logical(\"TRUE\")"
      ],
      "id": "833d5830-dc34-4d2c-83fc-7c6864b56eef"
    },
    {
      "cell_type": "markdown",
      "metadata": {},
      "source": [
        "------------------------------------------------------------------------\n",
        "\n",
        "## Basic String Operations\n",
        "\n",
        "### String Basics"
      ],
      "id": "cad392ac-e992-4203-a718-10f3d22d8ec5"
    },
    {
      "cell_type": "code",
      "execution_count": null,
      "metadata": {},
      "outputs": [
        {
          "output_type": "stream",
          "name": "stdout",
          "text": [
            "[1] 5"
          ]
        },
        {
          "output_type": "stream",
          "name": "stdout",
          "text": [
            "[1] \"Hello World\""
          ]
        },
        {
          "output_type": "stream",
          "name": "stdout",
          "text": [
            "[1] \"Hello World\""
          ]
        }
      ],
      "source": [
        "# Create strings\n",
        "name <- \"Alice\"\n",
        "greeting <- 'Hello'\n",
        "\n",
        "# String length\n",
        "nchar(name)"
      ],
      "id": "af1c51dd-24ed-49f8-a990-22f4402c65bf"
    },
    {
      "cell_type": "markdown",
      "metadata": {},
      "source": [
        "------------------------------------------------------------------------\n",
        "\n",
        "### String Manipulation"
      ],
      "id": "fa41d215-ecae-4bdf-a9ba-90b1cbef2b07"
    },
    {
      "cell_type": "code",
      "execution_count": null,
      "metadata": {},
      "outputs": [
        {
          "output_type": "stream",
          "name": "stdout",
          "text": [
            "[1] \"Hello\""
          ]
        },
        {
          "output_type": "stream",
          "name": "stdout",
          "text": [
            "[1] \"HELLO\""
          ]
        },
        {
          "output_type": "stream",
          "name": "stdout",
          "text": [
            "[1] \"world\""
          ]
        },
        {
          "output_type": "stream",
          "name": "stdout",
          "text": [
            "[[1]]\n",
            "[1] \"Hello\" \"World\""
          ]
        }
      ],
      "source": [
        "# Substring\n",
        "substr(\"Hello World\", 1, 5)"
      ],
      "id": "fa282b3b-9684-435a-8470-fce3146f483f"
    },
    {
      "cell_type": "markdown",
      "metadata": {},
      "source": [
        "------------------------------------------------------------------------\n",
        "\n",
        "## Complex Data Structures\n",
        "\n",
        "R provides powerful data structures for organizing and manipulating data\n",
        "efficiently.\n",
        "\n",
        "Using basic data types (numeric, logical, character), we can construct\n",
        "more complex data structures:\n",
        "\n",
        "<figure>\n",
        "<img src=\"attachment:assets/data_structures.png\"\n",
        "alt=\"Data Structures in R\" />\n",
        "<figcaption aria-hidden=\"true\">Data Structures in R</figcaption>\n",
        "</figure>\n",
        "\n",
        "### Overview of R Data Structures:\n",
        "\n",
        "-   **Vectors**: One-dimensional arrays of the same data type\n",
        "-   **Matrices**: Two-dimensional arrays of the same data type\n",
        "-   **Lists**: Ordered collections that can contain different data types\n",
        "-   **Data Frames**: Two-dimensional tables (like spreadsheets) with\n",
        "    mixed data types\n",
        "\n",
        "These structures form the foundation for data analysis in\n",
        "bioinformatics!\n",
        "\n",
        "------------------------------------------------------------------------\n",
        "\n",
        "## Vectors\n",
        "\n",
        "Vectors (or Atomic Vectors) are one-dimensional arrays of the same data\n",
        "type.\n",
        "\n",
        "### Creating Vectors"
      ],
      "attachments": {
        "assets/data_structures.png": {
          "image/png": "[encoded data removed]"
        }
      },
      "id": "7cf19407-d437-422a-b390-657815285970"
    },
    {
      "cell_type": "code",
      "execution_count": null,
      "metadata": {},
      "outputs": [
        {
          "output_type": "stream",
          "name": "stdout",
          "text": [
            "[1] 1 2 3 4 5"
          ]
        },
        {
          "output_type": "stream",
          "name": "stdout",
          "text": [
            "[1] \"apple\"  \"banana\" \"orange\""
          ]
        },
        {
          "output_type": "stream",
          "name": "stdout",
          "text": [
            "[1]  TRUE FALSE  TRUE"
          ]
        }
      ],
      "source": [
        "# Numeric vector\n",
        "numbers <- c(1, 2, 3, 4, 5)\n",
        "numbers"
      ],
      "id": "739a2c57-32c1-4ad3-9bba-7f131e67aed2"
    },
    {
      "cell_type": "markdown",
      "metadata": {},
      "source": [
        "------------------------------------------------------------------------\n",
        "\n",
        "### Vector Operations"
      ],
      "id": "c10026c1-71d5-4c43-af00-8b59ff908191"
    },
    {
      "cell_type": "code",
      "execution_count": null,
      "metadata": {},
      "outputs": [
        {
          "output_type": "stream",
          "name": "stdout",
          "text": [
            "[1] 5 7 9"
          ]
        },
        {
          "output_type": "stream",
          "name": "stdout",
          "text": [
            "[1]  4 10 18"
          ]
        },
        {
          "output_type": "stream",
          "name": "stdout",
          "text": [
            "[1] 5"
          ]
        },
        {
          "output_type": "stream",
          "name": "stdout",
          "text": [
            "[1] 15"
          ]
        },
        {
          "output_type": "stream",
          "name": "stdout",
          "text": [
            "[1] 3"
          ]
        }
      ],
      "source": [
        "# Vector arithmetic\n",
        "x <- c(1, 2, 3)\n",
        "y <- c(4, 5, 6)\n",
        "x + y"
      ],
      "id": "a5648241-a301-42ab-aaee-04d28d1c9eab"
    },
    {
      "cell_type": "markdown",
      "metadata": {},
      "source": [
        "------------------------------------------------------------------------\n",
        "\n",
        "### Vector Indexing"
      ],
      "id": "76dd8235-7bc1-41d0-86b1-0a3595ddf0f5"
    },
    {
      "cell_type": "code",
      "execution_count": null,
      "metadata": {},
      "outputs": [
        {
          "output_type": "stream",
          "name": "stdout",
          "text": [
            "[1] \"apple\""
          ]
        },
        {
          "output_type": "stream",
          "name": "stdout",
          "text": [
            "[1] \"banana\" \"orange\""
          ]
        },
        {
          "output_type": "stream",
          "name": "stdout",
          "text": [
            "[1] \"apple\"  \"orange\""
          ]
        },
        {
          "output_type": "stream",
          "name": "stdout",
          "text": [
            "[1] \"banana\" \"orange\""
          ]
        },
        {
          "output_type": "stream",
          "name": "stdout",
          "text": [
            "[1] \"banana\""
          ]
        }
      ],
      "source": [
        "# Access elements\n",
        "fruits[1]       # First element"
      ],
      "id": "8b72a854-81de-4f5f-aade-99d51efb0b26"
    },
    {
      "cell_type": "markdown",
      "metadata": {},
      "source": [
        "------------------------------------------------------------------------\n",
        "\n",
        "### Named Vectors"
      ],
      "id": "3a464ced-f9c2-4e22-8a10-4e40864e3918"
    },
    {
      "cell_type": "code",
      "execution_count": null,
      "metadata": {},
      "outputs": [
        {
          "output_type": "stream",
          "name": "stdout",
          "text": [
            "Alice   Bob Carol \n",
            "   25    30    35 "
          ]
        },
        {
          "output_type": "stream",
          "name": "stdout",
          "text": [
            "Alice \n",
            "   25 "
          ]
        },
        {
          "output_type": "stream",
          "name": "stdout",
          "text": [
            "Alice Carol \n",
            "   25    35 "
          ]
        }
      ],
      "source": [
        "# Create named vector\n",
        "ages <- c(Alice = 25, Bob = 30, Carol = 35)\n",
        "ages"
      ],
      "id": "7b01ae01-e708-4fae-b1fe-6c8d0470241e"
    },
    {
      "cell_type": "markdown",
      "metadata": {},
      "source": [
        "------------------------------------------------------------------------\n",
        "\n",
        "## Matrices\n",
        "\n",
        "Matrices are two-dimensional arrays of the same data type.\n",
        "\n",
        "### Creating Matrices"
      ],
      "id": "fab323f4-223f-46bf-97aa-42cd85d51eca"
    },
    {
      "cell_type": "code",
      "execution_count": null,
      "metadata": {},
      "outputs": [
        {
          "output_type": "stream",
          "name": "stdout",
          "text": [
            "     [,1] [,2] [,3]\n",
            "[1,]    1    4    7\n",
            "[2,]    2    5    8\n",
            "[3,]    3    6    9"
          ]
        },
        {
          "output_type": "stream",
          "name": "stdout",
          "text": [
            "     [,1] [,2] [,3]\n",
            "[1,]    1    2    3\n",
            "[2,]    4    5    6"
          ]
        },
        {
          "output_type": "stream",
          "name": "stdout",
          "text": [
            "     [,1] [,2] [,3]\n",
            "[1,]    1    3    5\n",
            "[2,]    2    4    6"
          ]
        }
      ],
      "source": [
        "# Create matrix from vector\n",
        "matrix(1:9, nrow = 3, ncol = 3)"
      ],
      "id": "965ee548-4b46-430c-a24e-d5bf149c48c8"
    },
    {
      "cell_type": "markdown",
      "metadata": {},
      "source": [
        "------------------------------------------------------------------------\n",
        "\n",
        "### Matrix Operations"
      ],
      "id": "499a15e5-cfd9-476d-a20f-34ccdefd8d81"
    },
    {
      "cell_type": "code",
      "execution_count": null,
      "metadata": {},
      "outputs": [
        {
          "output_type": "stream",
          "name": "stdout",
          "text": [
            "     [,1] [,2]\n",
            "[1,]    1    3\n",
            "[2,]    2    4"
          ]
        },
        {
          "output_type": "stream",
          "name": "stdout",
          "text": [
            "[1] 2 2"
          ]
        },
        {
          "output_type": "stream",
          "name": "stdout",
          "text": [
            "[1] 2"
          ]
        },
        {
          "output_type": "stream",
          "name": "stdout",
          "text": [
            "[1] 2"
          ]
        }
      ],
      "source": [
        "# Create sample matrix\n",
        "m <- matrix(1:4, nrow = 2)\n",
        "m"
      ],
      "id": "86cb47ab-aed5-49e7-a581-9bd9e123b962"
    },
    {
      "cell_type": "markdown",
      "metadata": {},
      "source": [
        "------------------------------------------------------------------------\n",
        "\n",
        "### Matrix Indexing"
      ],
      "id": "748195bf-7a06-4f73-a2bb-63a8f2861003"
    },
    {
      "cell_type": "code",
      "execution_count": null,
      "metadata": {},
      "outputs": [
        {
          "output_type": "stream",
          "name": "stdout",
          "text": [
            "[1] 3"
          ]
        },
        {
          "output_type": "stream",
          "name": "stdout",
          "text": [
            "[1] 1 3"
          ]
        },
        {
          "output_type": "stream",
          "name": "stdout",
          "text": [
            "[1] 3 4"
          ]
        },
        {
          "output_type": "stream",
          "name": "stdout",
          "text": [
            "[1] 1 2"
          ]
        }
      ],
      "source": [
        "# Access elements\n",
        "m[1, 2]    # Row 1, Column 2"
      ],
      "id": "3ab0be8c-e163-405b-86f7-d6da75bde7ae"
    },
    {
      "cell_type": "markdown",
      "metadata": {},
      "source": [
        "------------------------------------------------------------------------\n",
        "\n",
        "### Matrix Arithmetic"
      ],
      "id": "3cb7feec-7239-436c-bc84-adb55e04c1a3"
    },
    {
      "cell_type": "code",
      "execution_count": null,
      "metadata": {},
      "outputs": [
        {
          "output_type": "stream",
          "name": "stdout",
          "text": [
            "     [,1] [,2]\n",
            "[1,]    6   10\n",
            "[2,]    8   12"
          ]
        },
        {
          "output_type": "stream",
          "name": "stdout",
          "text": [
            "     [,1] [,2]\n",
            "[1,]    5   21\n",
            "[2,]   12   32"
          ]
        },
        {
          "output_type": "stream",
          "name": "stdout",
          "text": [
            "     [,1] [,2]\n",
            "[1,]   23   31\n",
            "[2,]   34   46"
          ]
        }
      ],
      "source": [
        "# Matrix operations\n",
        "m1 <- matrix(1:4, nrow = 2)\n",
        "m2 <- matrix(5:8, nrow = 2)\n",
        "\n",
        "m1 + m2"
      ],
      "id": "8b4b5d01-3e4f-416c-b6b0-40001e4c56e2"
    },
    {
      "cell_type": "markdown",
      "metadata": {},
      "source": [
        "------------------------------------------------------------------------\n",
        "\n",
        "## Lists\n",
        "\n",
        "Lists are ordered collections that can contain different data types.\n",
        "\n",
        "### Creating Lists"
      ],
      "id": "046338d5-4445-4caa-87d5-95a8d859d29c"
    },
    {
      "cell_type": "code",
      "execution_count": null,
      "metadata": {},
      "outputs": [
        {
          "output_type": "stream",
          "name": "stdout",
          "text": [
            "[[1]]\n",
            "[1] 1\n",
            "\n",
            "[[2]]\n",
            "[1] \"hello\"\n",
            "\n",
            "[[3]]\n",
            "[1] TRUE"
          ]
        }
      ],
      "source": [
        "# Simple list\n",
        "my_list <- list(1, \"hello\", TRUE)\n",
        "my_list"
      ],
      "id": "44af6d2e-4983-49fc-bbc1-96ceec8a5c44"
    },
    {
      "cell_type": "markdown",
      "metadata": {},
      "source": [
        "------------------------------------------------------------------------\n",
        "\n",
        "### Creating Lists"
      ],
      "id": "ceeeb238-7438-45cd-9c8c-36af684caeef"
    },
    {
      "cell_type": "code",
      "execution_count": null,
      "metadata": {},
      "outputs": [
        {
          "output_type": "stream",
          "name": "stdout",
          "text": [
            "$name\n",
            "[1] \"Alice\"\n",
            "\n",
            "$age\n",
            "[1] 25\n",
            "\n",
            "$scores\n",
            "[1] 85 90 88"
          ]
        }
      ],
      "source": [
        "# Named list\n",
        "person <- list(\n",
        "  name = \"Alice\",\n",
        "  age = 25,\n",
        "  scores = c(85, 90, 88)\n",
        ")\n",
        "person"
      ],
      "id": "1cc604c6-5843-4483-a903-e1511d76bae1"
    },
    {
      "cell_type": "markdown",
      "metadata": {},
      "source": [
        "------------------------------------------------------------------------\n",
        "\n",
        "### Accessing List Elements"
      ],
      "id": "2bda42f4-d449-4ef0-a3e6-533fdc8ca5ee"
    },
    {
      "cell_type": "code",
      "execution_count": null,
      "metadata": {},
      "outputs": [
        {
          "output_type": "stream",
          "name": "stdout",
          "text": [
            "[1] \"Alice\""
          ]
        },
        {
          "output_type": "stream",
          "name": "stdout",
          "text": [
            "[1] 85 90 88"
          ]
        },
        {
          "output_type": "stream",
          "name": "stdout",
          "text": [
            "[1] \"Alice\""
          ]
        },
        {
          "output_type": "stream",
          "name": "stdout",
          "text": [
            "[1] 25"
          ]
        },
        {
          "output_type": "stream",
          "name": "stdout",
          "text": [
            "[1] 85 90 88"
          ]
        }
      ],
      "source": [
        "# By index\n",
        "person[[1]]  # First element"
      ],
      "id": "7790369f-13ce-41d0-b43e-72a1a94770d1"
    },
    {
      "cell_type": "markdown",
      "metadata": {},
      "source": [
        "------------------------------------------------------------------------\n",
        "\n",
        "### List Operations"
      ],
      "id": "95ae2b84-b968-4136-bfc2-f91cd4129a4e"
    },
    {
      "cell_type": "code",
      "execution_count": null,
      "metadata": {},
      "outputs": [
        {
          "output_type": "stream",
          "name": "stdout",
          "text": [
            "[1] 3"
          ]
        },
        {
          "output_type": "stream",
          "name": "stdout",
          "text": [
            "[1] \"name\"   \"age\"    \"scores\""
          ]
        },
        {
          "output_type": "stream",
          "name": "stdout",
          "text": [
            "$name\n",
            "[1] \"Alice\"\n",
            "\n",
            "$age\n",
            "[1] 25\n",
            "\n",
            "$scores\n",
            "[1] 85 90 88\n",
            "\n",
            "$city\n",
            "[1] \"Stockholm\""
          ]
        }
      ],
      "source": [
        "# List length\n",
        "length(person)"
      ],
      "id": "00569cf7-3e40-4663-aedf-e70e2d774345"
    },
    {
      "cell_type": "markdown",
      "metadata": {},
      "source": [
        "------------------------------------------------------------------------\n",
        "\n",
        "### List Operations"
      ],
      "id": "ec0821fc-f866-40ef-aacd-ab4908936d7c"
    },
    {
      "cell_type": "code",
      "execution_count": null,
      "metadata": {},
      "outputs": [
        {
          "output_type": "stream",
          "name": "stdout",
          "text": [
            "$name\n",
            "[1] \"Alice\"\n",
            "\n",
            "$age\n",
            "[1] 25\n",
            "\n",
            "$scores\n",
            "[1] 85 90 88"
          ]
        }
      ],
      "source": [
        "# Remove elements\n",
        "person$city <- NULL\n",
        "person"
      ],
      "id": "5de0b4f5-d9ce-4c42-aac6-cd634189b918"
    },
    {
      "cell_type": "markdown",
      "metadata": {},
      "source": [
        "------------------------------------------------------------------------\n",
        "\n",
        "## Data Frames\n",
        "\n",
        "Data Frames are two-dimensional tables (like spreadsheets) with mixed\n",
        "data types\n",
        "\n",
        "### Creating Data Frames"
      ],
      "id": "0fceef94-9a2e-4ea7-aa19-fb55bb59a4dd"
    },
    {
      "cell_type": "code",
      "execution_count": null,
      "metadata": {},
      "outputs": [
        {
          "output_type": "stream",
          "name": "stdout",
          "text": [
            "   name age grade\n",
            "1 Alice  20     A\n",
            "2   Bob  21     B\n",
            "3 Carol  19     A"
          ]
        }
      ],
      "source": [
        "# Create data frame\n",
        "students <- data.frame(\n",
        "  name = c(\"Alice\", \"Bob\", \"Carol\"),\n",
        "  age = c(20, 21, 19),\n",
        "  grade = c(\"A\", \"B\", \"A\")\n",
        ")\n",
        "students"
      ],
      "id": "a31f9e8f-9ef1-4545-8d0f-de54a44b8956"
    },
    {
      "cell_type": "markdown",
      "metadata": {},
      "source": [
        "------------------------------------------------------------------------\n",
        "\n",
        "### Data Frame Properties"
      ],
      "id": "170708fc-7603-478d-9225-56671e88786e"
    },
    {
      "cell_type": "code",
      "execution_count": null,
      "metadata": {},
      "outputs": [
        {
          "output_type": "stream",
          "name": "stdout",
          "text": [
            "'data.frame':   3 obs. of  3 variables:\n",
            " $ name : chr  \"Alice\" \"Bob\" \"Carol\"\n",
            " $ age  : num  20 21 19\n",
            " $ grade: chr  \"A\" \"B\" \"A\""
          ]
        },
        {
          "output_type": "stream",
          "name": "stdout",
          "text": [
            "[1] 3 3"
          ]
        },
        {
          "output_type": "stream",
          "name": "stdout",
          "text": [
            "[1] 3"
          ]
        },
        {
          "output_type": "stream",
          "name": "stdout",
          "text": [
            "[1] 3"
          ]
        },
        {
          "output_type": "stream",
          "name": "stdout",
          "text": [
            "[1] \"name\"  \"age\"   \"grade\""
          ]
        }
      ],
      "source": [
        "# Structure\n",
        "str(students)"
      ],
      "id": "0acac9e3-8ab6-4938-b624-5764b51672bf"
    },
    {
      "cell_type": "markdown",
      "metadata": {},
      "source": [
        "------------------------------------------------------------------------\n",
        "\n",
        "### Data Frame Indexing"
      ],
      "id": "d90b76c0-d73b-4ea1-8d39-f681fe44caef"
    },
    {
      "cell_type": "code",
      "execution_count": null,
      "metadata": {},
      "outputs": [
        {
          "output_type": "stream",
          "name": "stdout",
          "text": [
            "   name age grade\n",
            "1 Alice  20     A\n",
            "2   Bob  21     B\n",
            "3 Carol  19     A"
          ]
        },
        {
          "output_type": "stream",
          "name": "stdout",
          "text": [
            "[1] \"Alice\" \"Bob\"   \"Carol\""
          ]
        },
        {
          "output_type": "stream",
          "name": "stdout",
          "text": [
            "[1] 20 21 19"
          ]
        },
        {
          "output_type": "stream",
          "name": "stdout",
          "text": [
            "[1] 20 21 19"
          ]
        },
        {
          "output_type": "stream",
          "name": "stdout",
          "text": [
            "   name age grade\n",
            "1 Alice  20     A"
          ]
        },
        {
          "output_type": "stream",
          "name": "stdout",
          "text": [
            "   name age grade\n",
            "1 Alice  20     A\n",
            "2   Bob  21     B"
          ]
        }
      ],
      "source": [
        "# Access columns\n",
        "students"
      ],
      "id": "763731ee-568a-4c5e-9754-71c396311e7c"
    },
    {
      "cell_type": "markdown",
      "metadata": {},
      "source": [
        "------------------------------------------------------------------------"
      ],
      "id": "813027aa-7845-46fd-89e9-1ca06d536ec6"
    },
    {
      "cell_type": "code",
      "execution_count": null,
      "metadata": {},
      "outputs": [
        {
          "output_type": "stream",
          "name": "stdout",
          "text": [
            "   name age grade\n",
            "1 Alice  20     A\n",
            "2   Bob  21     B\n",
            "3 Carol  19     A"
          ]
        },
        {
          "output_type": "stream",
          "name": "stdout",
          "text": [
            "[1] 20"
          ]
        },
        {
          "output_type": "stream",
          "name": "stdout",
          "text": [
            "[1] 20"
          ]
        }
      ],
      "source": [
        "students"
      ],
      "id": "00e9aa07-d44a-4925-bf8a-9d7bc70056e3"
    },
    {
      "cell_type": "markdown",
      "metadata": {},
      "source": [
        "------------------------------------------------------------------------\n",
        "\n",
        "### Data Frame Operations"
      ],
      "id": "809524ad-949a-4d39-9ce7-192c290ebc6a"
    },
    {
      "cell_type": "code",
      "execution_count": null,
      "metadata": {},
      "outputs": [
        {
          "output_type": "stream",
          "name": "stdout",
          "text": [
            "   name age grade passed\n",
            "1 Alice  20     A   TRUE\n",
            "2   Bob  21     B   TRUE\n",
            "3 Carol  19     A  FALSE"
          ]
        },
        {
          "output_type": "stream",
          "name": "stdout",
          "text": [
            "     name                age          grade             passed       \n",
            " Length:3           Min.   :19.0   Length:3           Mode :logical  \n",
            " Class :character   1st Qu.:19.5   Class :character   FALSE:1        \n",
            " Mode  :character   Median :20.0   Mode  :character   TRUE :2        \n",
            "                    Mean   :20.0                                     \n",
            "                    3rd Qu.:20.5                                     \n",
            "                    Max.   :21.0                                     "
          ]
        }
      ],
      "source": [
        "# Add column\n",
        "students$passed <- c(TRUE, TRUE, FALSE)\n",
        "students"
      ],
      "id": "7f4d8e1d-c78e-48d2-aca8-7f09d792e4f3"
    },
    {
      "cell_type": "markdown",
      "metadata": {},
      "source": [
        "------------------------------------------------------------------------\n",
        "\n",
        "### Data Frame Operations"
      ],
      "id": "6e0d9067-0d6d-4e95-910b-ec7a2156801c"
    },
    {
      "cell_type": "code",
      "execution_count": null,
      "metadata": {},
      "outputs": [
        {
          "output_type": "stream",
          "name": "stdout",
          "text": [
            "   name age grade passed\n",
            "1 Alice  20     A   TRUE\n",
            "2   Bob  21     B   TRUE\n",
            "3 Carol  19     A  FALSE"
          ]
        },
        {
          "output_type": "stream",
          "name": "stdout",
          "text": [
            "   name age grade passed\n",
            "1 Alice  20     A   TRUE\n",
            "2   Bob  21     B   TRUE\n",
            "3 Carol  19     A  FALSE"
          ]
        }
      ],
      "source": [
        "# View first/last rows\n",
        "head(students)"
      ],
      "id": "1ed89349-35a7-4aae-b92b-14d411edbb6f"
    },
    {
      "cell_type": "markdown",
      "metadata": {},
      "source": [
        "------------------------------------------------------------------------\n",
        "\n",
        "## Reading Data\n",
        "\n",
        "### Reading CSV Files"
      ],
      "id": "f6ad4036-3ab5-4a8a-892d-ccc63fbcce88"
    },
    {
      "cell_type": "code",
      "execution_count": null,
      "metadata": {},
      "outputs": [
        {
          "output_type": "stream",
          "name": "stdout",
          "text": [
            "  Gene_Symbol         Gene_ID Control_1 Control_2 Treatment_1 Treatment_2\n",
            "1       GAPDH ENSG00000111640      1250      1180         980        1050\n",
            "2        ACTB ENSG00000075624       890       920         750         820\n",
            "3        TP53 ENSG00000141510       450       480         680         720\n",
            "4         MYC ENSG00000136997       320       350         580         620\n",
            "5        EGFR ENSG00000146648       180       200         450         480\n",
            "6       BRCA1 ENSG00000012048       150       170         380         410"
          ]
        }
      ],
      "source": [
        "# Read CSV file\n",
        "data <- read.csv(\"assets/data.csv\")\n",
        "head(data)"
      ],
      "id": "1907fb25-44d3-4c7a-9783-3f42db03ac91"
    },
    {
      "cell_type": "markdown",
      "metadata": {},
      "source": [
        "------------------------------------------------------------------------\n",
        "\n",
        "### Reading CSV Files\n",
        "\n",
        "Factors in R are a special data type used to represent categorical data\n",
        "with predefined levels. They’re like labeled categories that can be\n",
        "ordered or unordered. stringsAsFactors = FALSE prevents automatic\n",
        "conversion of strings to factors."
      ],
      "id": "bf36dccf-c2b6-4361-9570-7f65497e9dd0"
    },
    {
      "cell_type": "code",
      "execution_count": null,
      "metadata": {},
      "outputs": [
        {
          "output_type": "stream",
          "name": "stdout",
          "text": [
            "  Gene_Symbol         Gene_ID Control_1 Control_2 Treatment_1 Treatment_2\n",
            "1       GAPDH ENSG00000111640      1250      1180         980        1050\n",
            "2        ACTB ENSG00000075624       890       920         750         820\n",
            "3        TP53 ENSG00000141510       450       480         680         720\n",
            "4         MYC ENSG00000136997       320       350         580         620\n",
            "5        EGFR ENSG00000146648       180       200         450         480\n",
            "6       BRCA1 ENSG00000012048       150       170         380         410"
          ]
        }
      ],
      "source": [
        "# With custom options\n",
        "data <- read.csv(\"assets/data.csv\", \n",
        "                 header = TRUE,\n",
        "                 sep = \",\",\n",
        "                 stringsAsFactors = FALSE)\n",
        "head(data)"
      ],
      "id": "1124a4d0-b61b-4c1d-91f6-b90406791f01"
    },
    {
      "cell_type": "markdown",
      "metadata": {},
      "source": [
        "------------------------------------------------------------------------\n",
        "\n",
        "### Reading Excel Files"
      ],
      "id": "11689bff-6102-4721-9d44-657ceeb1b222"
    },
    {
      "cell_type": "code",
      "execution_count": null,
      "metadata": {},
      "outputs": [
        {
          "output_type": "stream",
          "name": "stdout",
          "text": [
            "# A tibble: 6 × 6\n",
            "  Gene_Symbol Gene_ID         Control_1 Control_2 Treatment_1 Treatment_2\n",
            "  <chr>       <chr>               <dbl>     <dbl>       <dbl>       <dbl>\n",
            "1 GAPDH       ENSG00000111640      1250      1180         980        1050\n",
            "2 ACTB        ENSG00000075624       890       920         750         820\n",
            "3 TP53        ENSG00000141510       450       480         680         720\n",
            "4 MYC         ENSG00000136997       320       350         580         620\n",
            "5 EGFR        ENSG00000146648       180       200         450         480\n",
            "6 BRCA1       ENSG00000012048       150       170         380         410"
          ]
        },
        {
          "output_type": "stream",
          "name": "stdout",
          "text": [
            "# A tibble: 6 × 6\n",
            "  Gene_Symbol Gene_ID         Control_1 Control_2 Treatment_1 Treatment_2\n",
            "  <chr>       <chr>               <dbl>     <dbl>       <dbl>       <dbl>\n",
            "1 GAPDH       ENSG00000111640      1250      1180         980        1050\n",
            "2 ACTB        ENSG00000075624       890       920         750         820\n",
            "3 TP53        ENSG00000141510       450       480         680         720\n",
            "4 MYC         ENSG00000136997       320       350         580         620\n",
            "5 EGFR        ENSG00000146648       180       200         450         480\n",
            "6 BRCA1       ENSG00000012048       150       170         380         410"
          ]
        }
      ],
      "source": [
        "# Install readxl if needed\n",
        "# install.packages(\"readxl\")\n",
        "library(readxl)\n",
        "\n",
        "# Read Excel file\n",
        "excel_data <- read_excel(\"assets/data.xlsx\")\n",
        "head(excel_data)"
      ],
      "id": "2f822eeb-cace-4989-9a16-01cc7858e39d"
    },
    {
      "cell_type": "markdown",
      "metadata": {},
      "source": [
        "------------------------------------------------------------------------\n",
        "\n",
        "### Other File Formats"
      ],
      "id": "1adac2f9-bc56-460a-addb-44ff281f14f4"
    },
    {
      "cell_type": "code",
      "execution_count": null,
      "metadata": {},
      "outputs": [
        {
          "output_type": "stream",
          "name": "stdout",
          "text": [
            "  Gene_Symbol         Gene_ID Control_1 Control_2 Treatment_1 Treatment_2\n",
            "1       GAPDH ENSG00000111640      1250      1180         980        1050\n",
            "2        ACTB ENSG00000075624       890       920         750         820\n",
            "3        TP53 ENSG00000141510       450       480         680         720\n",
            "4         MYC ENSG00000136997       320       350         580         620\n",
            "5        EGFR ENSG00000146648       180       200         450         480\n",
            "6       BRCA1 ENSG00000012048       150       170         380         410"
          ]
        }
      ],
      "source": [
        "# Read tab-separated file\n",
        "tsv_data <- read.delim(\"assets/data.tsv\")\n",
        "head(tsv_data)"
      ],
      "id": "430bfa94-39de-4c31-9d40-1c551356b814"
    },
    {
      "cell_type": "markdown",
      "metadata": {},
      "source": [
        "------------------------------------------------------------------------\n",
        "\n",
        "## Functions\n",
        "\n",
        "Functions are reusable blocks of code that perform specific tasks. They\n",
        "help organize code, reduce repetition, and make programs more modular\n",
        "and maintainable.\n",
        "\n",
        "<figure>\n",
        "<img src=\"attachment:assets/r_functions.png\"\n",
        "alt=\"R Functions Overview\" />\n",
        "<figcaption aria-hidden=\"true\">R Functions Overview</figcaption>\n",
        "</figure>\n",
        "\n",
        "### Why Use Functions?\n",
        "\n",
        "-   **Reusability**: Write once, use many times\n",
        "-   **Organization**: Break complex tasks into smaller, manageable\n",
        "    pieces\n",
        "-   **Maintainability**: Easier to debug and update code\n",
        "-   **Abstraction**: Hide implementation details\n",
        "\n",
        "Functions take inputs (arguments), perform operations, and return\n",
        "outputs (results).\n",
        "\n",
        "------------------------------------------------------------------------\n",
        "\n",
        "### Writing Functions\n",
        "\n",
        "#### Basic Function Structure"
      ],
      "attachments": {
        "assets/r_functions.png": {
          "image/png": "[encoded data removed]"
        }
      },
      "id": "9cd9f8c4-cbe4-48ad-a48d-9e08a72ff907"
    },
    {
      "cell_type": "code",
      "execution_count": null,
      "metadata": {},
      "outputs": [
        {
          "output_type": "stream",
          "name": "stdout",
          "text": [
            "[1] \"Hello, Alice !\""
          ]
        }
      ],
      "source": [
        "# Simple function\n",
        "greet <- function(name) {\n",
        "  message <- paste(\"Hello,\", name, \"!\")\n",
        "  return(message)\n",
        "}\n",
        "\n",
        "# Call the function\n",
        "greet(\"Alice\")"
      ],
      "id": "2b0181f9-b6e1-41fc-b8bc-8deb59f9e653"
    },
    {
      "cell_type": "markdown",
      "metadata": {},
      "source": [
        "#### Functions with Multiple Parameters"
      ],
      "id": "00cf142a-65a4-4f1d-950b-aeba3acb4382"
    },
    {
      "cell_type": "code",
      "execution_count": null,
      "metadata": {},
      "outputs": [
        {
          "output_type": "stream",
          "name": "stdout",
          "text": [
            "[1] 22.85714"
          ]
        }
      ],
      "source": [
        "# Function with multiple parameters\n",
        "calculate_bmi <- function(weight_kg, height_m) {\n",
        "  bmi <- weight_kg / (height_m^2)\n",
        "  return(bmi)\n",
        "}\n",
        "\n",
        "# Usage\n",
        "calculate_bmi(70, 1.75)"
      ],
      "id": "fb27271d-6987-4f1c-a00f-b657f242598e"
    },
    {
      "cell_type": "markdown",
      "metadata": {},
      "source": [
        "------------------------------------------------------------------------\n",
        "\n",
        "#### Functions with Default Values"
      ],
      "id": "e6ed01eb-120c-4343-bdd0-df5449128044"
    },
    {
      "cell_type": "code",
      "execution_count": null,
      "metadata": {},
      "outputs": [
        {
          "output_type": "stream",
          "name": "stdout",
          "text": [
            "[1] 9"
          ]
        },
        {
          "output_type": "stream",
          "name": "stdout",
          "text": [
            "[1] 27"
          ]
        }
      ],
      "source": [
        "# Function with defaults\n",
        "power_function <- function(x, power = 2) {\n",
        "  result <- x^power\n",
        "  return(result)\n",
        "}\n",
        "\n",
        "# Usage\n",
        "power_function(3)      # Uses default power = 2"
      ],
      "id": "e3f61aed-c2c0-4c8b-8638-b31c4d4fb15a"
    },
    {
      "cell_type": "markdown",
      "metadata": {},
      "source": [
        "------------------------------------------------------------------------\n",
        "\n",
        "#### Functions with Conditional Logic"
      ],
      "id": "4f0c62f0-34c1-44dd-99b4-e19427466e96"
    },
    {
      "cell_type": "code",
      "execution_count": null,
      "metadata": {},
      "outputs": [
        {
          "output_type": "stream",
          "name": "stdout",
          "text": [
            "[1] \"B\""
          ]
        },
        {
          "output_type": "stream",
          "name": "stdout",
          "text": [
            "[1] \"A\""
          ]
        }
      ],
      "source": [
        "# Function with if-else\n",
        "grade_letter <- function(score) {\n",
        "  if (score >= 90) {\n",
        "    return(\"A\")\n",
        "  } else if (score >= 80) {\n",
        "    return(\"B\")\n",
        "  } else if (score >= 70) {\n",
        "    return(\"C\")\n",
        "  } else {\n",
        "    return(\"F\")\n",
        "  }\n",
        "}\n",
        "\n",
        "# Usage\n",
        "grade_letter(85)"
      ],
      "id": "fe21b7a5-016f-4713-b671-d132fe245ecf"
    },
    {
      "cell_type": "markdown",
      "metadata": {},
      "source": [
        "------------------------------------------------------------------------\n",
        "\n",
        "## Quiz Time! 🧠\n",
        "\n",
        "### Question 1\n",
        "\n",
        "Which operator is used for assignment in R? - A) `=` - B) `<-` - C) Both\n",
        "A and B\n",
        "\n",
        "### Question 2\n",
        "\n",
        "What function creates a vector in R? - A) `vector()` - B) `c()` - C)\n",
        "`make_vector()`\n",
        "\n",
        "### Question 3\n",
        "\n",
        "How do you access the first element of a vector named `my_vec`? - A)\n",
        "`my_vec[0]` - B) `my_vec[1]` - C) `my_vec.first`\n",
        "\n",
        "------------------------------------------------------------------------\n",
        "\n",
        "### Quiz Time! 🧠\n",
        "\n",
        "*(Answers: 1-C, 2-B, 3-B)*\n",
        "\n",
        "------------------------------------------------------------------------\n",
        "\n",
        "## Next Steps\n",
        "\n",
        "### What to Learn Next\n",
        "\n",
        "-   Data manipulation with dplyr\n",
        "-   Data visualization with ggplot2\n",
        "-   Statistical analysis functions\n",
        "-   Writing R scripts and RMarkdown\n",
        "-   Advanced data structures\n",
        "-   Working with dates and times\n",
        "\n",
        "### Resources\n",
        "\n",
        "-   [R for Data Science](https://r4ds.had.co.nz/) - Free online book\n",
        "-   [RStudio Education](https://education.rstudio.com/) - Learning\n",
        "    resources\n",
        "-   [CRAN Task Views](https://cran.r-project.org/web/views/) - Package\n",
        "    collections\n",
        "-   [R Documentation](https://www.rdocumentation.org/) - Function\n",
        "    reference\n",
        "\n",
        "------------------------------------------------------------------------\n",
        "\n",
        "## Thank You!\n",
        "\n",
        "You’ve completed the basic R programming tutorial!\n",
        "\n",
        "### Remember:\n",
        "\n",
        "-   Use `?function_name` for help\n",
        "-   Install packages with `install.packages()`\n",
        "-   Load packages with `library()`\n",
        "-   Practice regularly with real data\n",
        "\n",
        "### Questions?\n",
        "\n",
        "Feel free to ask your instructor or classmates!\n",
        "\n",
        "🐧 Happy R programming! 🐧\n",
        "\n",
        "------------------------------------------------------------------------\n",
        "\n",
        "## Practice Time! 💻\n",
        "\n",
        "### Exercise 1: Variables and Typesß\n",
        "\n",
        "1.  Create variables for your name, age, and height\n",
        "2.  Check their data types with `class()`\n",
        "3.  Convert your age to character and height to integer"
      ],
      "id": "cb9884da-f70b-43b6-a6b6-ab8bb1d5e94a"
    },
    {
      "cell_type": "code",
      "execution_count": null,
      "metadata": {},
      "outputs": [
        {
          "output_type": "stream",
          "name": "stdout",
          "text": [
            "[1] \"character\""
          ]
        },
        {
          "output_type": "stream",
          "name": "stdout",
          "text": [
            "[1] \"numeric\""
          ]
        },
        {
          "output_type": "stream",
          "name": "stdout",
          "text": [
            "[1] \"numeric\""
          ]
        },
        {
          "output_type": "stream",
          "name": "stdout",
          "text": [
            "[1] \"25\""
          ]
        },
        {
          "output_type": "stream",
          "name": "stdout",
          "text": [
            "[1] 1"
          ]
        }
      ],
      "source": [
        "# Your code here\n",
        "name <- \"Your Name\"\n",
        "age <- 25\n",
        "height <- 1.75\n",
        "\n",
        "class(name)"
      ],
      "id": "7075f541-9fec-499d-8261-27d8740d7dfc"
    },
    {
      "cell_type": "markdown",
      "metadata": {},
      "source": [
        "------------------------------------------------------------------------\n",
        "\n",
        "### Exercise 2: Vectors and Data Frames\n",
        "\n",
        "1.  Create a vector of your favorite numbers\n",
        "2.  Create a data frame with names and scores\n",
        "3.  Calculate the mean of the scores"
      ],
      "id": "d2da7c16-0359-4839-81c0-910905f94440"
    },
    {
      "cell_type": "code",
      "execution_count": null,
      "metadata": {},
      "outputs": [
        {
          "output_type": "stream",
          "name": "stdout",
          "text": [
            "[1] 85"
          ]
        }
      ],
      "source": [
        "# Your code here\n",
        "numbers <- c(1, 5, 10, 15, 20)\n",
        "\n",
        "scores_df <- data.frame(\n",
        "  name = c(\"Alice\", \"Bob\", \"Carol\"),\n",
        "  score = c(85, 92, 78)\n",
        ")\n",
        "\n",
        "mean(scores_df$score)"
      ],
      "id": "f7382086-c829-4d46-9a74-e14e39b7731a"
    }
  ],
  "nbformat": 4,
  "nbformat_minor": 5,
  "metadata": {
    "kernelspec": {
      "display_name": "Python 3",
      "language": "python",
      "name": "python3"
    }
  }
}